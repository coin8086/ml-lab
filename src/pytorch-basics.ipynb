{
 "cells": [
  {
   "cell_type": "markdown",
   "metadata": {},
   "source": [
    "# [PyTorch Basics](https://d2l.ai/chapter_preliminaries/ndarray.html)"
   ]
  },
  {
   "cell_type": "markdown",
   "metadata": {},
   "source": [
    "## Tensor"
   ]
  },
  {
   "cell_type": "code",
   "execution_count": 7,
   "metadata": {},
   "outputs": [
    {
     "name": "stdout",
     "output_type": "stream",
     "text": [
      "x=tensor([ 0,  1,  2,  3,  4,  5,  6,  7,  8,  9, 10, 11])\n",
      "x.shape=torch.Size([12])\n",
      "x.numel()=12\n",
      "x=tensor([ 0,  1,  2,  3,  4,  5,  6,  7,  8,  9, 10, 11])\n",
      "x.shape=torch.Size([12])\n",
      "x.numel()=12\n",
      "y=tensor([[ 0,  1,  2,  3],\n",
      "        [ 4,  5,  6,  7],\n",
      "        [ 8,  9, 10, 11]])\n",
      "y.shape=torch.Size([3, 4])\n",
      "y.numel()=12\n"
     ]
    }
   ],
   "source": [
    "import torch\n",
    "\n",
    "x = torch.arange(12)\n",
    "print(f\"{x=}\\n{x.shape=}\\n{x.numel()=}\")\n",
    "\n",
    "y = x.reshape(3, 4)\n",
    "print(f\"{x=}\\n{x.shape=}\\n{x.numel()=}\")\n",
    "print(f\"{y=}\\n{y.shape=}\\n{y.numel()=}\")\n"
   ]
  },
  {
   "cell_type": "code",
   "execution_count": 8,
   "metadata": {},
   "outputs": [
    {
     "data": {
      "text/plain": [
       "tensor([[[1., 1., 1., 1.],\n",
       "         [1., 1., 1., 1.],\n",
       "         [1., 1., 1., 1.]],\n",
       "\n",
       "        [[1., 1., 1., 1.],\n",
       "         [1., 1., 1., 1.],\n",
       "         [1., 1., 1., 1.]]])"
      ]
     },
     "execution_count": 8,
     "metadata": {},
     "output_type": "execute_result"
    }
   ],
   "source": [
    "torch.ones((2, 3, 4))"
   ]
  },
  {
   "cell_type": "code",
   "execution_count": 9,
   "metadata": {},
   "outputs": [
    {
     "data": {
      "text/plain": [
       "tensor([[[0., 0., 0., 0.],\n",
       "         [0., 0., 0., 0.],\n",
       "         [0., 0., 0., 0.]],\n",
       "\n",
       "        [[0., 0., 0., 0.],\n",
       "         [0., 0., 0., 0.],\n",
       "         [0., 0., 0., 0.]]])"
      ]
     },
     "execution_count": 9,
     "metadata": {},
     "output_type": "execute_result"
    }
   ],
   "source": [
    "torch.zeros((2, 3, 4))"
   ]
  },
  {
   "cell_type": "code",
   "execution_count": 10,
   "metadata": {},
   "outputs": [
    {
     "data": {
      "text/plain": [
       "tensor([[[-0.0811,  0.9593, -0.7624,  1.3327],\n",
       "         [ 0.2084, -0.0778, -0.6106,  0.4044],\n",
       "         [-0.5538, -0.2446, -0.5938, -0.7318]],\n",
       "\n",
       "        [[ 0.0959, -0.6026, -2.6878, -0.1382],\n",
       "         [ 0.6746,  1.6473, -1.4665, -1.4497],\n",
       "         [-0.5224,  0.1277, -0.5037, -1.1528]]])"
      ]
     },
     "execution_count": 10,
     "metadata": {},
     "output_type": "execute_result"
    }
   ],
   "source": [
    "torch.randn((2, 3, 4))"
   ]
  },
  {
   "cell_type": "code",
   "execution_count": 11,
   "metadata": {},
   "outputs": [
    {
     "data": {
      "text/plain": [
       "tensor([[2, 1, 4, 3],\n",
       "        [1, 2, 3, 4],\n",
       "        [4, 3, 2, 1]])"
      ]
     },
     "execution_count": 11,
     "metadata": {},
     "output_type": "execute_result"
    }
   ],
   "source": [
    "torch.tensor([[2, 1, 4, 3], [1, 2, 3, 4], [4, 3, 2, 1]])"
   ]
  },
  {
   "cell_type": "markdown",
   "metadata": {},
   "source": [
    "## Indexing and Slicing"
   ]
  },
  {
   "cell_type": "code",
   "execution_count": 21,
   "metadata": {},
   "outputs": [
    {
     "name": "stdout",
     "output_type": "stream",
     "text": [
      "x=tensor([ 0,  1,  2,  3,  4,  5,  6,  7,  8,  9, 10, 11])\n",
      "y=tensor([[ 0,  1,  2,  3],\n",
      "        [ 4,  5,  6,  7],\n",
      "        [ 8,  9, 10, 11]])\n",
      "x[1]=tensor(1)\n",
      "y[1]=tensor([4, 5, 6, 7])\n",
      "y[1][1]=tensor(5)\n",
      "x[1:]=tensor([ 1,  2,  3,  4,  5,  6,  7,  8,  9, 10, 11])\n",
      "y[1:]=tensor([[ 4,  5,  6,  7],\n",
      "        [ 8,  9, 10, 11]])\n",
      "y[1:, 1]=tensor([5, 9])\n",
      "y[:, 1]=tensor([1, 5, 9])\n"
     ]
    }
   ],
   "source": [
    "print(f\"{x=}\\n{y=}\")\n",
    "print(f\"{x[1]=}\\n{y[1]=}\\n{y[1][1]=}\")\n",
    "print(f\"{x[1:]=}\\n{y[1:]=}\\n{y[1:, 1]=}\\n{y[:, 1]=}\")\n"
   ]
  },
  {
   "cell_type": "markdown",
   "metadata": {},
   "source": [
    "## Concatenating"
   ]
  },
  {
   "cell_type": "code",
   "execution_count": 33,
   "metadata": {},
   "outputs": [
    {
     "name": "stdout",
     "output_type": "stream",
     "text": [
      "x=tensor([[1, 2, 3, 4],\n",
      "        [5, 6, 7, 8]])\n",
      "y=tensor([[1., 1., 1., 1.],\n",
      "        [1., 1., 1., 1.]])\n",
      "torch.cat((x, y), dim=0)=tensor([[1., 2., 3., 4.],\n",
      "        [5., 6., 7., 8.],\n",
      "        [1., 1., 1., 1.],\n",
      "        [1., 1., 1., 1.]])\n",
      "torch.cat((x, y), dim=1)=tensor([[1., 2., 3., 4., 1., 1., 1., 1.],\n",
      "        [5., 6., 7., 8., 1., 1., 1., 1.]])\n",
      "\n"
     ]
    }
   ],
   "source": [
    "x = torch.tensor([[1, 2, 3, 4], \n",
    "                  [5, 6, 7, 8]])\n",
    "y = torch.ones((2, 4))\n",
    "\n",
    "print(f\"{x=}\\n{y=}\\n{torch.cat((x, y), dim=0)=}\\n{torch.cat((x, y), dim=1)=}\\n\")"
   ]
  },
  {
   "cell_type": "markdown",
   "metadata": {},
   "source": [
    "## Operations"
   ]
  },
  {
   "cell_type": "code",
   "execution_count": 36,
   "metadata": {},
   "outputs": [
    {
     "name": "stdout",
     "output_type": "stream",
     "text": [
      "x=tensor([1, 2, 3, 4])\n",
      "y=tensor([10, 20, 30, 40])\n",
      "x + y=tensor([11, 22, 33, 44])\n",
      "x * y=tensor([ 10,  40,  90, 160])\n",
      "x * 100=tensor([100, 200, 300, 400])\n",
      "x % 3 == 0 =tensor([False, False,  True, False])\n",
      "x[x % 3 == 0] =tensor([3])\n"
     ]
    }
   ],
   "source": [
    "x = torch.tensor([1, 2, 3, 4])\n",
    "y = torch.tensor([10, 20, 30, 40])\n",
    "\n",
    "print(f\"{x=}\\n{y=}\\n{x + y=}\\n{x * y=}\\n{x * 100=}\")\n",
    "\n",
    "print(f\"{x % 3 == 0 =}\\n{x[x % 3 == 0] =}\")\n"
   ]
  },
  {
   "cell_type": "markdown",
   "metadata": {},
   "source": [
    "## Memory Reuse\n",
    "\n",
    "Instead of `x = x + y`, use `x += y` or `x[:] = x + y` intead, to reuse the memory allocated for `x`."
   ]
  },
  {
   "cell_type": "markdown",
   "metadata": {},
   "source": [
    "## Conversion to and from Numpy"
   ]
  },
  {
   "cell_type": "code",
   "execution_count": 39,
   "metadata": {},
   "outputs": [
    {
     "name": "stdout",
     "output_type": "stream",
     "text": [
      "x=tensor([1, 2, 3]), y=array([1, 2, 3])\n",
      "x=tensor([10,  2,  3]), y=array([10,  2,  3])\n",
      "x=tensor([100,   2,   3]), y=array([100,   2,   3]), z=tensor([100,   2,   3])\n",
      "id(x)=140219339446512, id(y)=140219329222128, id(z)=140220453771104\n"
     ]
    }
   ],
   "source": [
    "x = torch.tensor([1, 2, 3])\n",
    "y = x.numpy()\n",
    "\n",
    "print(f\"{x=}, {y=}\")\n",
    "\n",
    "x[0] = 10\n",
    "\n",
    "print(f\"{x=}, {y=}\")\n",
    "\n",
    "z = torch.from_numpy(y)\n",
    "z[0] = 100\n",
    "\n",
    "print(f\"{x=}, {y=}, {z=}\")\n",
    "print(f\"{id(x)=}, {id(y)=}, {id(z)=}\")"
   ]
  },
  {
   "cell_type": "code",
   "execution_count": null,
   "metadata": {},
   "outputs": [],
   "source": []
  }
 ],
 "metadata": {
  "kernelspec": {
   "display_name": "Python 3",
   "language": "python",
   "name": "python3"
  },
  "language_info": {
   "codemirror_mode": {
    "name": "ipython",
    "version": 3
   },
   "file_extension": ".py",
   "mimetype": "text/x-python",
   "name": "python",
   "nbconvert_exporter": "python",
   "pygments_lexer": "ipython3",
   "version": "3.10.12"
  },
  "orig_nbformat": 4
 },
 "nbformat": 4,
 "nbformat_minor": 2
}
