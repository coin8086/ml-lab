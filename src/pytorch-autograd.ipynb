{
 "cells": [
  {
   "cell_type": "markdown",
   "metadata": {},
   "source": [
    "# PyTorch 自动微分"
   ]
  },
  {
   "cell_type": "markdown",
   "metadata": {},
   "source": [
    "## 一个简单的例子\n",
    "\n",
    "设 $y_w(\\mathbf{x}) = \\mathbf{x} \\cdot \\mathbf{w} + 10$ ，当 $\\mathbf{x} = [1 \\ 2 \\ 3]^T, \\mathbf{w} = [1 \\ 1 \\ 1]^T$ 时，计算 $\\displaystyle \\frac{\\partial y}{\\partial \\mathbf{w}}$ "
   ]
  },
  {
   "cell_type": "code",
   "execution_count": 19,
   "metadata": {},
   "outputs": [
    {
     "name": "stdout",
     "output_type": "stream",
     "text": [
      "y = tensor(16., dtype=torch.float64, grad_fn=<AddBackward0>)\n",
      "w.grad = tensor([1., 2., 3.], dtype=torch.float64)\n"
     ]
    }
   ],
   "source": [
    "import torch\n",
    "\n",
    "x = torch.tensor([1, 2, 3], dtype=torch.float64)\n",
    "w = torch.ones(3, dtype=torch.float64, requires_grad=True)\n",
    "y = x @ w + 10\n",
    "\n",
    "y.backward()\n",
    "print(f\"{y = }\\n{w.grad = }\")"
   ]
  },
  {
   "cell_type": "markdown",
   "metadata": {},
   "source": [
    "## 含有控制流的函数的自动微分\n",
    "\n",
    "设 $y(\\mathbf{x}) = 2^n x_1 + 2^n x_2 + 2^n x_3$ ，其中 $n$ 的值依赖于 $\\| \\mathbf{x} \\|$ 的大小，计算 $\\displaystyle \\frac{\\partial y}{\\partial \\mathbf{x}}$ "
   ]
  },
  {
   "cell_type": "code",
   "execution_count": 22,
   "metadata": {},
   "outputs": [
    {
     "name": "stdout",
     "output_type": "stream",
     "text": [
      "r = tensor([1., 2., 3.], dtype=torch.float64, requires_grad=True)\n",
      "y = tensor(6., dtype=torch.float64, grad_fn=<SumBackward0>)\n",
      "x1.grad = tensor([1., 1., 1.], dtype=torch.float64)\n",
      "r = tensor([0.4000, 0.8000, 1.2000], dtype=torch.float64, grad_fn=<MulBackward0>)\n",
      "y = tensor(2.4000, dtype=torch.float64, grad_fn=<SumBackward0>)\n",
      "x2.grad = tensor([4., 4., 4.], dtype=torch.float64)\n"
     ]
    }
   ],
   "source": [
    "def f(a):\n",
    "    while a.norm() < 1:\n",
    "        a = a * 2\n",
    "    return a\n",
    "    \n",
    "x1 = torch.tensor([1, 2, 3], dtype=torch.float64, requires_grad=True)\n",
    "r = f(x1)\n",
    "y = r.sum()\n",
    "y.backward()\n",
    "print(f\"{r = }\\n{y = }\\n{x1.grad = }\")\n",
    "\n",
    "x2 = torch.tensor([0.1, 0.2, 0.3], dtype=torch.float64, requires_grad=True)\n",
    "r = f(x2)\n",
    "y = r.sum()\n",
    "y.backward()\n",
    "print(f\"{r = }\\n{y = }\\n{x2.grad = }\")\n"
   ]
  }
 ],
 "metadata": {
  "kernelspec": {
   "display_name": "Python 3",
   "language": "python",
   "name": "python3"
  },
  "language_info": {
   "codemirror_mode": {
    "name": "ipython",
    "version": 3
   },
   "file_extension": ".py",
   "mimetype": "text/x-python",
   "name": "python",
   "nbconvert_exporter": "python",
   "pygments_lexer": "ipython3",
   "version": "3.10.12"
  },
  "orig_nbformat": 4
 },
 "nbformat": 4,
 "nbformat_minor": 2
}
