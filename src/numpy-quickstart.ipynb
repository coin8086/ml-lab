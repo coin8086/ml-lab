{
 "cells": [
  {
   "cell_type": "markdown",
   "metadata": {},
   "source": [
    "# [NumPy Quickstart](https://numpy.org/doc/stable/user/quickstart.html)"
   ]
  },
  {
   "cell_type": "code",
   "execution_count": 2,
   "metadata": {},
   "outputs": [],
   "source": [
    "import numpy as np\n",
    "\n",
    "def separator():\n",
    "    line_sep = '\\n-----------------------------------\\n'\n",
    "    print(line_sep)"
   ]
  },
  {
   "cell_type": "markdown",
   "metadata": {},
   "source": [
    "## Shape and Reshape"
   ]
  },
  {
   "cell_type": "code",
   "execution_count": 14,
   "metadata": {},
   "outputs": [
    {
     "name": "stdout",
     "output_type": "stream",
     "text": [
      "a=array([ 1,  2,  3,  4,  5,  6,  7,  8,  9, 10, 11, 12])\n",
      "a.shape=(12,)\n",
      "a.T=array([ 1,  2,  3,  4,  5,  6,  7,  8,  9, 10, 11, 12])\n",
      "a.T.shape=(12,)\n",
      "\n",
      "-----------------------------------\n",
      "\n",
      "b=array([[ 1,  2,  3,  4],\n",
      "       [ 5,  6,  7,  8],\n",
      "       [ 9, 10, 11, 12]])\n",
      "b.shape=(3, 4)\n",
      "b.T=array([[ 1,  5,  9],\n",
      "       [ 2,  6, 10],\n",
      "       [ 3,  7, 11],\n",
      "       [ 4,  8, 12]])\n",
      "b.T.shape=(4, 3)\n",
      "\n",
      "-----------------------------------\n",
      "\n",
      "c=array([[ 1,  2,  3],\n",
      "       [ 4,  5,  6],\n",
      "       [ 7,  8,  9],\n",
      "       [10, 11, 12]])\n",
      "c.shape=(4, 3)\n"
     ]
    }
   ],
   "source": [
    "a = np.arange(1, 13)\n",
    "print(f\"{a=}\\n{a.shape=}\")\n",
    "print(f\"{a.T=}\\n{a.T.shape=}\")\n",
    "\n",
    "separator()\n",
    "\n",
    "b = a.reshape(3, 4)\n",
    "print(f\"{b=}\\n{b.shape=}\")\n",
    "print(f\"{b.T=}\\n{b.T.shape=}\")\n",
    "\n",
    "separator()\n",
    "\n",
    "# -1 means what it should be\n",
    "c =a.reshape(4, -1)\n",
    "print(f\"{c=}\\n{c.shape=}\")\n"
   ]
  },
  {
   "cell_type": "markdown",
   "metadata": {},
   "source": [
    "## Index and Slice"
   ]
  },
  {
   "cell_type": "code",
   "execution_count": 4,
   "metadata": {},
   "outputs": [
    {
     "name": "stdout",
     "output_type": "stream",
     "text": [
      "a=array([[ 1,  2,  3,  4],\n",
      "       [ 5,  6,  7,  8],\n",
      "       [ 9, 10, 11, 12]])\n",
      "\n",
      "-----------------------------------\n",
      "\n",
      "a[1, 2]=7, a[1][2]=7\n",
      "a[:, 1]=array([ 2,  6, 10])\n",
      "a[1, :]=array([5, 6, 7, 8])\n",
      "\n",
      "-----------------------------------\n",
      "\n",
      "b=array([1, 2, 3])\n",
      "b[:, np.newaxis]=array([[1],\n",
      "       [2],\n",
      "       [3]])\n",
      "b.reshape((3, 1))=array([[1],\n",
      "       [2],\n",
      "       [3]])\n",
      "b[np.newaxis, :]=array([[1, 2, 3]])\n",
      "b.reshape((1, 3))=array([[1, 2, 3]])\n"
     ]
    }
   ],
   "source": [
    "a = np.arange(1, 13).reshape((3, 4))\n",
    "print(f\"{a=}\")\n",
    "\n",
    "separator()\n",
    "\n",
    "print(f\"{a[1, 2]=}, {a[1][2]=}\")\n",
    "print(f\"{a[:, 1]=}\")\n",
    "print(f\"{a[1, :]=}\")\n",
    "\n",
    "separator()\n",
    "\n",
    "b = np.arange(1, 4)\n",
    "print(f\"{b=}\")\n",
    "\n",
    "# Convert a 1D array to 2D Column Vector\n",
    "print(f\"{b[:, np.newaxis]=}\")\n",
    "\n",
    "# Can also do it by reshape\n",
    "print(f\"{b.reshape((3, 1))=}\")\n",
    "\n",
    "# Convert a 1D array to 2D Row Vector\n",
    "print(f\"{b[np.newaxis, :]=}\")\n",
    "\n",
    "# Can also do it by reshape\n",
    "print(f\"{b.reshape((1, 3))=}\")\n",
    "\n"
   ]
  },
  {
   "cell_type": "markdown",
   "metadata": {},
   "source": [
    "### Array as Index"
   ]
  },
  {
   "cell_type": "code",
   "execution_count": 5,
   "metadata": {},
   "outputs": [
    {
     "name": "stdout",
     "output_type": "stream",
     "text": [
      "a=array([ 10,  20,  30,  40,  50,  60,  70,  80,  90, 100, 110, 120])\n",
      "a[[1, 1, 4]]=array([20, 20, 50])\n",
      "a[[[1, 1], [2, 3]]]=array([[20, 20],\n",
      "       [30, 40]])\n",
      "\n",
      "-----------------------------------\n",
      "\n",
      "b=array([[ 10,  20],\n",
      "       [ 30,  40],\n",
      "       [ 50,  60],\n",
      "       [ 70,  80],\n",
      "       [ 90, 100],\n",
      "       [110, 120]])\n",
      "b[[1, 3, 5]]=array([[ 30,  40],\n",
      "       [ 70,  80],\n",
      "       [110, 120]])\n",
      "\n",
      "-----------------------------------\n",
      "\n",
      "c=array([[ 10,  20,  30,  40],\n",
      "       [ 50,  60,  70,  80],\n",
      "       [ 90, 100, 110, 120]])\n",
      "d=[[1, 2], [0, 0]]\n",
      "e=[[3, 3], [1, 2]]\n",
      "c[d, e]=array([[ 80, 120],\n",
      "       [ 20,  30]])\n",
      "c[d, 2]=array([[ 70, 110],\n",
      "       [ 30,  30]])\n",
      "c[:, e]=array([[[ 40,  40],\n",
      "        [ 20,  30]],\n",
      "\n",
      "       [[ 80,  80],\n",
      "        [ 60,  70]],\n",
      "\n",
      "       [[120, 120],\n",
      "        [100, 110]]])\n"
     ]
    }
   ],
   "source": [
    "a = np.arange(1, 13) * 10\n",
    "print(f\"{a=}\")\n",
    "print(f\"{a[[1, 1, 4]]=}\")\n",
    "print(f\"{a[[[1, 1], [2, 3]]]=}\")\n",
    "\n",
    "separator()\n",
    "\n",
    "b = a.reshape(6, 2)\n",
    "print(f\"{b=}\")\n",
    "print(f\"{b[[1, 3, 5]]=}\")\n",
    "\n",
    "separator()\n",
    "\n",
    "c = a.reshape(3, 4)\n",
    "d = [[1, 2], [0, 0]]    # Indices for the 1st axis \n",
    "e = [[3, 3], [1, 2]]    # Indices for the 2nd axis\n",
    "print(f\"{c=}\\n{d=}\\n{e=}\")\n",
    "\n",
    "# d and e must be of the same shape.\n",
    "print(f\"{c[d, e]=}\")\n",
    "\n",
    "print(f\"{c[d, 2]=}\")\n",
    "\n",
    "print(f\"{c[:, e]=}\")"
   ]
  },
  {
   "cell_type": "markdown",
   "metadata": {},
   "source": [
    "### Boolean Array"
   ]
  },
  {
   "cell_type": "code",
   "execution_count": 6,
   "metadata": {},
   "outputs": [
    {
     "name": "stdout",
     "output_type": "stream",
     "text": [
      "a=array([[ 1,  2,  3,  4],\n",
      "       [ 5,  6,  7,  8],\n",
      "       [ 9, 10, 11, 12]])\n",
      "a > 6=array([[False, False, False, False],\n",
      "       [False, False,  True,  True],\n",
      "       [ True,  True,  True,  True]])\n",
      "a[a > 6]=array([ 7,  8,  9, 10, 11, 12])\n",
      "a=array([[1, 2, 3, 4],\n",
      "       [5, 6, 0, 0],\n",
      "       [0, 0, 0, 0]])\n"
     ]
    }
   ],
   "source": [
    "a = np.arange(1, 13).reshape(3, 4)\n",
    "print(f\"{a=}\")\n",
    "print(f\"{a > 6=}\")\n",
    "print(f\"{a[a > 6]=}\")\n",
    "\n",
    "a[a > 6]=0\n",
    "print(f\"{a=}\")"
   ]
  },
  {
   "cell_type": "markdown",
   "metadata": {},
   "source": [
    "## Stack"
   ]
  },
  {
   "cell_type": "code",
   "execution_count": 7,
   "metadata": {},
   "outputs": [
    {
     "name": "stdout",
     "output_type": "stream",
     "text": [
      "a=[1 2 3], b=[10 20 30]\n",
      "\n",
      "-----------------------------------\n",
      "\n",
      "vstack((a, b))\n",
      " [[ 1  2  3]\n",
      " [10 20 30]]\n",
      "hstack((a, b))\n",
      " [ 1  2  3 10 20 30]\n",
      "column_stack((a, b))\n",
      " [[ 1 10]\n",
      " [ 2 20]\n",
      " [ 3 30]]\n",
      "\n",
      "-----------------------------------\n",
      "\n",
      "c=array([[ 1, 10,  1],\n",
      "       [ 2, 20,  2],\n",
      "       [ 3, 30,  3]])\n",
      "c=array([[ 1, 10,  1],\n",
      "       [ 2, 20,  2],\n",
      "       [ 3, 30,  3]])\n"
     ]
    }
   ],
   "source": [
    "a = np.arange(1, 4)\n",
    "b = np.arange(10, 40, 10)\n",
    "print(f\"a={a}, b={b}\")\n",
    "\n",
    "separator()\n",
    "\n",
    "print(\"vstack((a, b))\\n\", np.vstack((a, b)))\n",
    "print(\"hstack((a, b))\\n\", np.hstack((a, b)))\n",
    "print(\"column_stack((a, b))\\n\", np.column_stack((a, b)))\n",
    "\n",
    "separator()\n",
    "\n",
    "c = np.column_stack((a, b))\n",
    "c = np.column_stack((c, a))\n",
    "print(f\"{c=}\\n{c=}\")"
   ]
  },
  {
   "cell_type": "markdown",
   "metadata": {},
   "source": [
    "## Split"
   ]
  },
  {
   "cell_type": "code",
   "execution_count": 8,
   "metadata": {},
   "outputs": [
    {
     "name": "stdout",
     "output_type": "stream",
     "text": [
      "a:\n",
      "[[ 1  2  3  4  5  6]\n",
      " [ 7  8  9 10 11 12]]\n",
      "\n",
      "-----------------------------------\n",
      "\n",
      "hsplit(a, 3):\n",
      "[[1 2]\n",
      " [7 8]]\n",
      "[[ 3  4]\n",
      " [ 9 10]]\n",
      "[[ 5  6]\n",
      " [11 12]]\n",
      "\n",
      "-----------------------------------\n",
      "\n",
      "np.hsplit(a, (3, 4)):\n",
      "[[1 2 3]\n",
      " [7 8 9]]\n",
      "[[ 4]\n",
      " [10]]\n",
      "[[ 5  6]\n",
      " [11 12]]\n",
      "\n",
      "-----------------------------------\n",
      "\n",
      "np.vsplit(a, 2):\n",
      "[[1 2 3 4 5 6]]\n",
      "[[ 7  8  9 10 11 12]]\n"
     ]
    }
   ],
   "source": [
    "a = np.arange(1, 13).reshape((2, 6))\n",
    "print(f'a:\\n{a}')\n",
    "\n",
    "separator()\n",
    "\n",
    "print(f'hsplit(a, 3):')\n",
    "r = np.hsplit(a, 3)\n",
    "for i in r:\n",
    "    print(i)\n",
    "\n",
    "separator()\n",
    "\n",
    "print(f'np.hsplit(a, (3, 4)):')\n",
    "r = np.hsplit(a, (3, 4))\n",
    "for i in r:\n",
    "    print(i)\n",
    "    \n",
    "separator()\n",
    "\n",
    "print(f'np.vsplit(a, 2):')\n",
    "r = np.vsplit(a, 2)\n",
    "for i in r:\n",
    "    print(i)\n"
   ]
  },
  {
   "cell_type": "markdown",
   "metadata": {},
   "source": [
    "## Multiplication"
   ]
  },
  {
   "cell_type": "markdown",
   "metadata": {},
   "source": [
    "### Scalar Multiplier"
   ]
  },
  {
   "cell_type": "code",
   "execution_count": 9,
   "metadata": {},
   "outputs": [
    {
     "name": "stdout",
     "output_type": "stream",
     "text": [
      "A=array([[1, 2, 3],\n",
      "       [4, 5, 6]])\n",
      "A * 10=array([[10, 20, 30],\n",
      "       [40, 50, 60]])\n",
      "10 * A=array([[10, 20, 30],\n",
      "       [40, 50, 60]])\n",
      "np.dot(A, 10)=array([[10, 20, 30],\n",
      "       [40, 50, 60]])\n",
      "np.dot(10, A)=array([[10, 20, 30],\n",
      "       [40, 50, 60]])\n",
      "\n",
      "-----------------------------------\n",
      "\n",
      "v=array([1, 2, 3])\n",
      "v * 10=array([10, 20, 30])\n",
      "10 * v=array([10, 20, 30])\n",
      "np.dot(v, 10)=array([10, 20, 30])\n",
      "np.dot(10, v)=array([10, 20, 30])\n"
     ]
    }
   ],
   "source": [
    "A = np.arange(1, 7).reshape(2, 3)\n",
    "print(f\"{A=}\\n{A * 10=}\\n{10 * A=}\")\n",
    "print(f\"{np.dot(A, 10)=}\\n{np.dot(10, A)=}\")\n",
    "\n",
    "separator()\n",
    "\n",
    "v = np.arange(1, 4)\n",
    "print(f\"{v=}\\n{v * 10=}\\n{10 * v=}\")\n",
    "print(f\"{np.dot(v, 10)=}\\n{np.dot(10, v)=}\")\n"
   ]
  },
  {
   "cell_type": "markdown",
   "metadata": {},
   "source": [
    "### Matrix and Vector"
   ]
  },
  {
   "cell_type": "code",
   "execution_count": 225,
   "metadata": {},
   "outputs": [
    {
     "name": "stdout",
     "output_type": "stream",
     "text": [
      "A=array([[1, 2],\n",
      "       [3, 4]])\n",
      "v=array([1, 1])\n",
      "A @ v=array([3, 7]), v @ A=array([4, 6])\n",
      "np.dot(A, v)=array([3, 7]), np.dot(v, A)=array([4, 6])\n",
      "\n",
      "-----------------------------------\n",
      "\n",
      "B=array([[1],\n",
      "       [1]])\n",
      "A @ B=array([[3],\n",
      "       [7]])\n",
      "np.dot(A, B)=array([[3],\n",
      "       [7]])\n",
      "\n",
      "-----------------------------------\n",
      "\n",
      "u=array([1, 2])\n",
      "u.T=array([1, 2])\n",
      "u @ u.T=5, u.T @ u=5\n",
      "C=array([[1],\n",
      "       [2]])\n",
      "C.T=array([[1, 2]])\n",
      "C @ C.T=array([[1, 2],\n",
      "       [2, 4]])\n",
      "C.T @ C=array([[5]])\n"
     ]
    }
   ],
   "source": [
    "\n",
    "A = np.arange(1, 5).reshape(2, 2)\n",
    "print(f\"{A=}\")\n",
    "\n",
    "v = np.array([1, 1])\n",
    "print(f\"{v=}\")\n",
    "\n",
    "# v is treated as either a column vector like (n, 1) or a row vector like (1, n) where it is appropriate\n",
    "print(f\"{A @ v=}, {v @ A=}\")\n",
    "print(f\"{np.dot(A, v)=}, {np.dot(v, A)=}\")\n",
    "\n",
    "separator()\n",
    "\n",
    "B = v.reshape((2, 1))\n",
    "print(f\"{B=}\")\n",
    "\n",
    "# It would be an error for \"B @ A\"\n",
    "print(f\"{A @ B=}\")\n",
    "print(f\"{np.dot(A, B)=}\")\n",
    "\n",
    "separator()\n",
    "\n",
    "u = np.arange(1, 3)\n",
    "print(f\"{u=}\\n{u.T=}\")\n",
    "# NOTE: u.T is the same as u since u is 1D array.\n",
    "print(f\"{u @ u.T=}, {u.T @ u=}\")\n",
    "\n",
    "\n",
    "C = u.reshape((2, 1))\n",
    "print(f\"{C=}\\n{C.T=}\")\n",
    "\n",
    "print(f\"{C @ C.T=}\")\n",
    "print(f\"{C.T @ C=}\")"
   ]
  },
  {
   "cell_type": "markdown",
   "metadata": {},
   "source": [
    "### Inner Product"
   ]
  },
  {
   "cell_type": "code",
   "execution_count": 226,
   "metadata": {},
   "outputs": [
    {
     "name": "stdout",
     "output_type": "stream",
     "text": [
      "u=array([1, 2]), v=array([1, 1])\n",
      "u @ v=3\n",
      "v @ u=3\n",
      "np.dot(u, v)=3\n",
      "np.dot(v, u)=3\n"
     ]
    }
   ],
   "source": [
    "# The inner product can only be made between two 1D arrays, that are vectors.\n",
    "# So C @ C, or C.T @ C.T, is an error.\n",
    "print(f\"{u=}, {v=}\")\n",
    "print(f\"{u @ v=}\\n{v @ u=}\")\n",
    "print(f\"{np.dot(u, v)=}\\n{np.dot(v, u)=}\")"
   ]
  },
  {
   "cell_type": "code",
   "execution_count": null,
   "metadata": {},
   "outputs": [],
   "source": []
  }
 ],
 "metadata": {
  "kernelspec": {
   "display_name": "Python 3",
   "language": "python",
   "name": "python3"
  },
  "language_info": {
   "codemirror_mode": {
    "name": "ipython",
    "version": 3
   },
   "file_extension": ".py",
   "mimetype": "text/x-python",
   "name": "python",
   "nbconvert_exporter": "python",
   "pygments_lexer": "ipython3",
   "version": "3.10.6"
  },
  "orig_nbformat": 4
 },
 "nbformat": 4,
 "nbformat_minor": 2
}
