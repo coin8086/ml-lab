{
 "cells": [
  {
   "cell_type": "markdown",
   "metadata": {},
   "source": [
    "# [NumPy Quickstart](https://numpy.org/doc/stable/user/quickstart.html)"
   ]
  },
  {
   "cell_type": "markdown",
   "metadata": {},
   "source": [
    "## Multiplication"
   ]
  },
  {
   "cell_type": "code",
   "execution_count": 79,
   "metadata": {},
   "outputs": [
    {
     "name": "stdout",
     "output_type": "stream",
     "text": [
      "a=array([1, 2, 3])\n",
      "a.shape=(3,)\n",
      "b=array([[1, 2, 3],\n",
      "       [4, 5, 6]])\n",
      "b.shape=(2, 3)\n",
      "c = b @ a\n",
      "c=array([14, 32])\n",
      "c.shape=(2,)\n",
      "d=array([[1],\n",
      "       [2],\n",
      "       [3]])\n",
      "d.shape=(3, 1)\n",
      "e = b @ d\n",
      "e=array([[14],\n",
      "       [32]])\n",
      "e.shape=(2, 1)\n",
      "f = c @ e\n",
      "f=array([1220])\n",
      "f.shape=(1,)\n",
      "c2 = c[np.newaxis, :]\n",
      "c2=array([[14, 32]])\n",
      "c2.shape=(1, 2)\n",
      "g = e @ c2\n",
      "g=array([[ 196,  448],\n",
      "       [ 448, 1024]])\n",
      "g.shape=(2, 2)\n"
     ]
    }
   ],
   "source": [
    "import numpy as np\n",
    "\n",
    "a = np.array([1, 2, 3])\n",
    "print(f\"{a=}\\n{a.shape=}\")\n",
    "\n",
    "b = np.array([[1, 2, 3], [4, 5, 6]])\n",
    "print(f\"{b=}\\n{b.shape=}\")\n",
    "\n",
    "print(\"c = b @ a\")\n",
    "# It would be an error for \"a @ b\"\n",
    "c = b @ a\n",
    "print(f\"{c=}\\n{c.shape=}\")\n",
    "\n",
    "d = a.reshape((3, 1))\n",
    "print(f\"{d=}\\n{d.shape=}\")\n",
    "\n",
    "print(\"e = b @ d\")\n",
    "# It would be an error for \"d @ b\"\n",
    "e = b @ d\n",
    "print(f\"{e=}\\n{e.shape=}\")\n",
    "\n",
    "print(\"f = c @ e\")\n",
    "f = c @ e\n",
    "print(f\"{f=}\\n{f.shape=}\")\n",
    "\n",
    "print(\"c2 = c[np.newaxis, :]\")\n",
    "c2 = c[np.newaxis, :]\n",
    "print(f\"{c2=}\\n{c2.shape=}\")\n",
    "\n",
    "print(\"g = e @ c2\")\n",
    "# It would be an error for \"e @ c\"\n",
    "g = e @ c2\n",
    "print(f\"{g=}\\n{g.shape=}\")\n"
   ]
  },
  {
   "cell_type": "markdown",
   "metadata": {},
   "source": [
    "## Shape and Reshape"
   ]
  },
  {
   "cell_type": "code",
   "execution_count": 65,
   "metadata": {},
   "outputs": [
    {
     "name": "stdout",
     "output_type": "stream",
     "text": [
      "The shape of a is (10,)\n",
      "[ 1  2  3  4  5  6  7  8  9 10]\n",
      "The shape of a.T is (10,)\n",
      "[ 1  2  3  4  5  6  7  8  9 10]\n",
      "The shape of b is (3, 4)\n",
      "[[ 1  2  3  4]\n",
      " [ 5  6  7  8]\n",
      " [ 9 10 11 12]]\n",
      "The shape of b.T is (4, 3)\n",
      "[[ 1  5  9]\n",
      " [ 2  6 10]\n",
      " [ 3  7 11]\n",
      " [ 4  8 12]]\n"
     ]
    }
   ],
   "source": [
    "a = np.arange(1, 11)\n",
    "print(f\"The shape of a is {a.shape}\\n{a}\")\n",
    "print(f\"The shape of a.T is {a.T.shape}\\n{a.T}\")\n",
    "\n",
    "b = np.arange(1, 13).reshape(3, 4)\n",
    "print(f\"The shape of b is {b.shape}\\n{b}\")\n",
    "print(f\"The shape of b.T is {b.T.shape}\\n{b.T}\")\n"
   ]
  },
  {
   "cell_type": "markdown",
   "metadata": {},
   "source": [
    "## Index and Slice"
   ]
  },
  {
   "cell_type": "code",
   "execution_count": 93,
   "metadata": {},
   "outputs": [
    {
     "name": "stdout",
     "output_type": "stream",
     "text": [
      "a=array([[ 1,  2,  3,  4],\n",
      "       [ 5,  6,  7,  8],\n",
      "       [ 9, 10, 11, 12]])\n",
      "a[1, 2]=7, a[1][2]=7\n",
      "a[:, 1]=array([ 2,  6, 10])\n",
      "a[1, :]=array([5, 6, 7, 8])\n"
     ]
    }
   ],
   "source": [
    "a = np.arange(1, 13).reshape((3, 4))\n",
    "print(f\"{a=}\")\n",
    "\n",
    "print(f\"{a[1, 2]=}, {a[1][2]=}\")\n",
    "\n",
    "print(f\"{a[:, 1]=}\")\n",
    "\n",
    "print(f\"{a[1, :]=}\")"
   ]
  },
  {
   "cell_type": "markdown",
   "metadata": {},
   "source": [
    "## Stack"
   ]
  },
  {
   "cell_type": "code",
   "execution_count": 86,
   "metadata": {},
   "outputs": [
    {
     "name": "stdout",
     "output_type": "stream",
     "text": [
      "a, b:  [1 2 3] [10 20 30]\n",
      "vstack a, b\n",
      " [[ 1  2  3]\n",
      " [10 20 30]]\n",
      "hstack a, b\n",
      " [ 1  2  3 10 20 30]\n",
      "column_stack a, b\n",
      " [[ 1 10]\n",
      " [ 2 20]\n",
      " [ 3 30]]\n",
      "c=array([[ 1, 10],\n",
      "       [ 2, 20],\n",
      "       [ 3, 30]])\n",
      "d=array([[ 1, 10,  1],\n",
      "       [ 2, 20,  2],\n",
      "       [ 3, 30,  3]])\n"
     ]
    }
   ],
   "source": [
    "a = np.arange(1, 4)\n",
    "b = np.arange(10, 40, 10)\n",
    "print(\"a, b: \", a, b)\n",
    "print(\"vstack a, b\\n\", np.vstack((a, b)))\n",
    "print(\"hstack a, b\\n\", np.hstack((a, b)))\n",
    "print(\"column_stack a, b\\n\", np.column_stack((a, b)))\n",
    "\n",
    "c = np.column_stack((a, b))\n",
    "d = np.column_stack((c, a))\n",
    "print(f\"{c=}\\n{d=}\")"
   ]
  },
  {
   "cell_type": "markdown",
   "metadata": {},
   "source": [
    "## Split"
   ]
  },
  {
   "cell_type": "code",
   "execution_count": 75,
   "metadata": {},
   "outputs": [
    {
     "name": "stdout",
     "output_type": "stream",
     "text": [
      "a=array([[ 1,  2,  3,  4,  5,  6],\n",
      "       [ 7,  8,  9, 10, 11, 12]])\n",
      "np.hsplit(a, 3)=[array([[1, 2],\n",
      "       [7, 8]]), array([[ 3,  4],\n",
      "       [ 9, 10]]), array([[ 5,  6],\n",
      "       [11, 12]])]\n",
      "np.hsplit(a, (3, 4))=[array([[1, 2, 3],\n",
      "       [7, 8, 9]]), array([[ 4],\n",
      "       [10]]), array([[ 5,  6],\n",
      "       [11, 12]])]\n",
      "np.vsplit(a, 2)=[array([[1, 2, 3, 4, 5, 6]]), array([[ 7,  8,  9, 10, 11, 12]])]\n"
     ]
    }
   ],
   "source": [
    "a = np.arange(1, 13).reshape((2, 6))\n",
    "print(f'{a=}')\n",
    "\n",
    "print(f'{np.hsplit(a, 3)=}')\n",
    "print(f'{np.hsplit(a, (3, 4))=}')\n",
    "\n",
    "print(f'{np.vsplit(a, 2)=}')"
   ]
  }
 ],
 "metadata": {
  "kernelspec": {
   "display_name": "Python 3",
   "language": "python",
   "name": "python3"
  },
  "language_info": {
   "codemirror_mode": {
    "name": "ipython",
    "version": 3
   },
   "file_extension": ".py",
   "mimetype": "text/x-python",
   "name": "python",
   "nbconvert_exporter": "python",
   "pygments_lexer": "ipython3",
   "version": "3.10.6"
  },
  "orig_nbformat": 4
 },
 "nbformat": 4,
 "nbformat_minor": 2
}
