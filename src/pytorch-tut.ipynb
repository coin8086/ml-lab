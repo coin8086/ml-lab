{
 "cells": [
  {
   "cell_type": "markdown",
   "metadata": {},
   "source": [
    "# [PyTorch Tutorial](https://pytorch.org/tutorials/beginner/basics/intro.html)"
   ]
  },
  {
   "cell_type": "code",
   "execution_count": 12,
   "metadata": {},
   "outputs": [],
   "source": [
    "import os\n",
    "import torch\n",
    "import torch.nn as nn\n",
    "from torch.utils.data import DataLoader\n",
    "from torchvision import datasets, transforms\n",
    "from torchvision.transforms import ToTensor"
   ]
  },
  {
   "cell_type": "markdown",
   "metadata": {},
   "source": [
    "## Load Data"
   ]
  },
  {
   "cell_type": "code",
   "execution_count": 13,
   "metadata": {},
   "outputs": [],
   "source": [
    "training_data = datasets.FashionMNIST(\n",
    "    root=\"../data\",\n",
    "    train=True,\n",
    "    download=True,\n",
    "    transform=ToTensor()\n",
    ")\n",
    "\n",
    "test_data = datasets.FashionMNIST(\n",
    "    root=\"../data\",\n",
    "    train=False,\n",
    "    download=True,\n",
    "    transform=ToTensor()\n",
    ")\n",
    "\n",
    "train_dataloader = DataLoader(training_data, batch_size=64)\n",
    "test_dataloader = DataLoader(test_data, batch_size=64)"
   ]
  },
  {
   "cell_type": "markdown",
   "metadata": {},
   "source": [
    "## Build Model\n",
    "\n",
    "References:\n",
    "\n",
    "* [How to build a Model](https://pytorch.org/tutorials/beginner/basics/buildmodel_tutorial.html)\n",
    "* [torch.nn.Module](https://pytorch.org/docs/stable/generated/torch.nn.Module.html)"
   ]
  },
  {
   "cell_type": "markdown",
   "metadata": {},
   "source": [
    "### Model Class"
   ]
  },
  {
   "cell_type": "code",
   "execution_count": 14,
   "metadata": {},
   "outputs": [
    {
     "name": "stdout",
     "output_type": "stream",
     "text": [
      "Using cuda device\n",
      "NeuralNetwork(\n",
      "  (flatten): Flatten(start_dim=1, end_dim=-1)\n",
      "  (linear_relu_stack): Sequential(\n",
      "    (0): Linear(in_features=784, out_features=512, bias=True)\n",
      "    (1): ReLU()\n",
      "    (2): Linear(in_features=512, out_features=512, bias=True)\n",
      "    (3): ReLU()\n",
      "    (4): Linear(in_features=512, out_features=10, bias=True)\n",
      "  )\n",
      ")\n"
     ]
    }
   ],
   "source": [
    "device = (\n",
    "    \"cuda\"\n",
    "    if torch.cuda.is_available()\n",
    "    else \"cpu\"\n",
    ")\n",
    "print(f\"Using {device} device\")\n",
    "\n",
    "class NeuralNetwork(nn.Module):\n",
    "    def __init__(self):\n",
    "        super().__init__()\n",
    "        self.flatten = nn.Flatten()\n",
    "        self.linear_relu_stack = nn.Sequential(\n",
    "            nn.Linear(28*28, 512),\n",
    "            nn.ReLU(),\n",
    "            nn.Linear(512, 512),\n",
    "            nn.ReLU(),\n",
    "            nn.Linear(512, 10),\n",
    "        )\n",
    "\n",
    "    # See https://pytorch.org/docs/stable/generated/torch.nn.Module.html#torch.nn.Module.forward\n",
    "    # for when to call it and when not\n",
    "    def forward(self, x):\n",
    "        x = self.flatten(x)\n",
    "        logits = self.linear_relu_stack(x)\n",
    "        return logits\n",
    "\n",
    "# NOTE: It seems moving model and inputs to \"cuda\" doesn't improve the overall performance \n",
    "# of this simple implemetation at all, comparing to \"cpu\"!\n",
    "model = NeuralNetwork().to(device)\n",
    "print(model)"
   ]
  },
  {
   "cell_type": "code",
   "execution_count": 15,
   "metadata": {},
   "outputs": [
    {
     "name": "stdout",
     "output_type": "stream",
     "text": [
      "logits = tensor([[-0.0928, -0.0721,  0.0883, -0.0428, -0.0174, -0.0752,  0.0089, -0.0919,\n",
      "          0.0171,  0.0340]], device='cuda:0', grad_fn=<AddmmBackward0>)\n",
      "logits.sum() = tensor(-0.2439, device='cuda:0', grad_fn=<SumBackward0>)\n",
      "pred_probab = tensor([[0.0932, 0.0952, 0.1117, 0.0980, 0.1005, 0.0949, 0.1032, 0.0933, 0.1041,\n",
      "         0.1058]], device='cuda:0', grad_fn=<SoftmaxBackward0>)\n",
      "pred_probab.sum() = tensor(1.0000, device='cuda:0', grad_fn=<SumBackward0>)\n",
      "y_pred =tensor([2], device='cuda:0')\n"
     ]
    }
   ],
   "source": [
    "X = torch.rand(1, 28, 28, device=device)\n",
    "logits = model(X)\n",
    "pred_probab = nn.Softmax(dim=1)(logits)\n",
    "y_pred = pred_probab.argmax(1)\n",
    "print(f\"{logits = }\\n{logits.sum() = }\\n{pred_probab = }\\n{pred_probab.sum() = }\\n{y_pred =}\")"
   ]
  },
  {
   "cell_type": "markdown",
   "metadata": {},
   "source": [
    "### Model Layers"
   ]
  },
  {
   "cell_type": "code",
   "execution_count": 16,
   "metadata": {},
   "outputs": [
    {
     "name": "stdout",
     "output_type": "stream",
     "text": [
      "torch.Size([3, 28, 28])\n",
      "torch.Size([3, 784])\n",
      "torch.Size([3, 20])\n",
      "Before ReLU: tensor([[ 0.1093,  0.1109, -0.1638,  0.3122, -0.0237, -0.4138, -0.0963, -0.5451,\n",
      "          0.3469,  0.2707, -0.1301, -0.1254,  0.0143, -0.5955,  0.0356,  0.2761,\n",
      "          0.1272,  0.2938, -0.1693,  0.0664],\n",
      "        [-0.2553,  0.2270, -0.1184,  0.3061,  0.0158,  0.1994, -0.4287, -0.6827,\n",
      "          0.1763,  0.6024, -0.5433, -0.4022,  0.0729, -0.1965,  0.0909,  0.4221,\n",
      "          0.0829,  0.4132, -0.5167, -0.1717],\n",
      "        [-0.0662,  0.0429, -0.2325, -0.2691, -0.1363,  0.0087, -0.1470, -0.5717,\n",
      "          0.2982,  0.7517,  0.0679, -0.0732, -0.0555, -0.2251,  0.1919,  0.4112,\n",
      "          0.0835,  0.2957, -0.2653, -0.0636]], grad_fn=<AddmmBackward0>)\n",
      "\n",
      "\n",
      "After ReLU: tensor([[0.1093, 0.1109, 0.0000, 0.3122, 0.0000, 0.0000, 0.0000, 0.0000, 0.3469,\n",
      "         0.2707, 0.0000, 0.0000, 0.0143, 0.0000, 0.0356, 0.2761, 0.1272, 0.2938,\n",
      "         0.0000, 0.0664],\n",
      "        [0.0000, 0.2270, 0.0000, 0.3061, 0.0158, 0.1994, 0.0000, 0.0000, 0.1763,\n",
      "         0.6024, 0.0000, 0.0000, 0.0729, 0.0000, 0.0909, 0.4221, 0.0829, 0.4132,\n",
      "         0.0000, 0.0000],\n",
      "        [0.0000, 0.0429, 0.0000, 0.0000, 0.0000, 0.0087, 0.0000, 0.0000, 0.2982,\n",
      "         0.7517, 0.0679, 0.0000, 0.0000, 0.0000, 0.1919, 0.4112, 0.0835, 0.2957,\n",
      "         0.0000, 0.0000]], grad_fn=<ReluBackward0>)\n"
     ]
    }
   ],
   "source": [
    "input_image = torch.rand(3,28,28)\n",
    "print(input_image.size())\n",
    "# print(input_image)\n",
    "\n",
    "flatten = nn.Flatten()\n",
    "flat_image = flatten(input_image)\n",
    "print(flat_image.size())\n",
    "# print(flat_image)\n",
    "\n",
    "layer1 = nn.Linear(in_features=28*28, out_features=20)\n",
    "hidden1 = layer1(flat_image)\n",
    "print(hidden1.size())\n",
    "# print(hidden1)\n",
    "\n",
    "print(f\"Before ReLU: {hidden1}\\n\\n\")\n",
    "hidden1 = nn.ReLU()(hidden1)\n",
    "print(f\"After ReLU: {hidden1}\")"
   ]
  },
  {
   "cell_type": "code",
   "execution_count": 17,
   "metadata": {},
   "outputs": [
    {
     "name": "stdout",
     "output_type": "stream",
     "text": [
      "logits = tensor([[-0.0024,  0.1121,  0.2538, -0.1514,  0.2429,  0.0407, -0.1362, -0.3547,\n",
      "          0.3516,  0.2262],\n",
      "        [-0.0178,  0.1357,  0.2081, -0.0730,  0.2568,  0.0254, -0.1753, -0.3227,\n",
      "          0.3872,  0.1941],\n",
      "        [-0.0193,  0.0783,  0.1755, -0.0499,  0.2726,  0.0820, -0.2154, -0.2349,\n",
      "          0.2956,  0.0972]], grad_fn=<AddmmBackward0>)\n",
      "pred_probab = tensor([[0.0921, 0.1033, 0.1190, 0.0794, 0.1177, 0.0962, 0.0806, 0.0648, 0.1312,\n",
      "         0.1158],\n",
      "        [0.0905, 0.1055, 0.1134, 0.0856, 0.1191, 0.0945, 0.0773, 0.0667, 0.1357,\n",
      "         0.1118],\n",
      "        [0.0921, 0.1016, 0.1119, 0.0893, 0.1234, 0.1020, 0.0757, 0.0743, 0.1262,\n",
      "         0.1035]], grad_fn=<SoftmaxBackward0>)\n"
     ]
    }
   ],
   "source": [
    "seq_modules = nn.Sequential(\n",
    "    flatten,\n",
    "    layer1,\n",
    "    nn.ReLU(),\n",
    "    nn.Linear(20, 10)\n",
    ")\n",
    "input_image = torch.rand(3,28,28)\n",
    "logits = seq_modules(input_image)\n",
    "\n",
    "softmax = nn.Softmax(dim=1)\n",
    "pred_probab = softmax(logits)\n",
    "print(f\"{logits = }\\n{pred_probab = }\")\n"
   ]
  },
  {
   "cell_type": "markdown",
   "metadata": {},
   "source": [
    "### Model Parameters\n",
    "\n",
    "References\n",
    "\n",
    "* [torch.nn.Module.named_parameters](https://pytorch.org/docs/stable/generated/torch.nn.Module.html#torch.nn.Module.named_parameters)\n",
    "* [torch.nn.parameter.Parameter](https://pytorch.org/docs/stable/generated/torch.nn.parameter.Parameter.html#torch.nn.parameter.Parameter)"
   ]
  },
  {
   "cell_type": "code",
   "execution_count": 18,
   "metadata": {},
   "outputs": [
    {
     "name": "stdout",
     "output_type": "stream",
     "text": [
      "Model structure: NeuralNetwork(\n",
      "  (flatten): Flatten(start_dim=1, end_dim=-1)\n",
      "  (linear_relu_stack): Sequential(\n",
      "    (0): Linear(in_features=784, out_features=512, bias=True)\n",
      "    (1): ReLU()\n",
      "    (2): Linear(in_features=512, out_features=512, bias=True)\n",
      "    (3): ReLU()\n",
      "    (4): Linear(in_features=512, out_features=10, bias=True)\n",
      "  )\n",
      ")\n",
      "\n",
      "\n",
      "Layer: linear_relu_stack.0.weight | Size: torch.Size([512, 784]) | Values : tensor([[ 0.0038, -0.0354,  0.0260,  ..., -0.0174, -0.0068,  0.0180],\n",
      "        [-0.0060,  0.0270,  0.0019,  ...,  0.0127, -0.0040,  0.0229]],\n",
      "       device='cuda:0', grad_fn=<SliceBackward0>) \n",
      "\n",
      "Layer: linear_relu_stack.0.bias | Size: torch.Size([512]) | Values : tensor([0.0243, 0.0008], device='cuda:0', grad_fn=<SliceBackward0>) \n",
      "\n",
      "Layer: linear_relu_stack.2.weight | Size: torch.Size([512, 512]) | Values : tensor([[ 0.0371,  0.0392, -0.0186,  ...,  0.0088, -0.0159, -0.0363],\n",
      "        [-0.0165,  0.0119, -0.0153,  ...,  0.0045, -0.0027, -0.0379]],\n",
      "       device='cuda:0', grad_fn=<SliceBackward0>) \n",
      "\n",
      "Layer: linear_relu_stack.2.bias | Size: torch.Size([512]) | Values : tensor([0.0416, 0.0242], device='cuda:0', grad_fn=<SliceBackward0>) \n",
      "\n",
      "Layer: linear_relu_stack.4.weight | Size: torch.Size([10, 512]) | Values : tensor([[ 0.0354, -0.0009,  0.0340,  ...,  0.0284,  0.0230,  0.0393],\n",
      "        [-0.0353,  0.0079, -0.0328,  ...,  0.0218,  0.0139, -0.0051]],\n",
      "       device='cuda:0', grad_fn=<SliceBackward0>) \n",
      "\n",
      "Layer: linear_relu_stack.4.bias | Size: torch.Size([10]) | Values : tensor([-0.0303, -0.0313], device='cuda:0', grad_fn=<SliceBackward0>) \n",
      "\n"
     ]
    }
   ],
   "source": [
    "print(f\"Model structure: {model}\\n\\n\")\n",
    "\n",
    "for name, param in model.named_parameters():\n",
    "    print(f\"Layer: {name} | Size: {param.size()} | Values : {param[:2]} \\n\")"
   ]
  },
  {
   "cell_type": "markdown",
   "metadata": {},
   "source": [
    "## Train Model\n",
    "\n",
    "References\n",
    "\n",
    "* [How to train a model](https://pytorch.org/tutorials/beginner/basics/optimization_tutorial.html)\n"
   ]
  },
  {
   "cell_type": "markdown",
   "metadata": {},
   "source": [
    "### Loss Function\n",
    "\n",
    "References\n",
    "\n",
    "* [torch.nn.CrossEntropyLoss](https://pytorch.org/docs/stable/generated/torch.nn.CrossEntropyLoss.html)\n",
    "* [torch.nn.LogSoftmax](https://pytorch.org/docs/stable/generated/torch.nn.LogSoftmax.html)\n",
    "* [torch.nn.NLLLoss](https://pytorch.org/docs/stable/generated/torch.nn.NLLLoss.html)\n",
    "\n",
    "See more on `Softmax` computation at \n",
    "* https://pytorch.org/docs/stable/generated/torch.nn.Softmax.html#torch.nn.Softmax\n",
    "* http://zh.d2l.ai/chapter_linear-networks/softmax-regression.html#subsec-softmax-operation\n",
    "* http://zh.d2l.ai/chapter_linear-networks/softmax-regression-concise.html#subsec-softmax-implementation-revisited\n",
    "* And [here](./pytorch-classification.ipynb)"
   ]
  },
  {
   "cell_type": "code",
   "execution_count": 19,
   "metadata": {},
   "outputs": [
    {
     "name": "stdout",
     "output_type": "stream",
     "text": [
      "input = tensor([[-0.6477, -0.0884,  0.1480,  0.8500],\n",
      "        [-0.9798,  0.6597,  0.5251,  0.6036],\n",
      "        [ 0.6716,  1.2962, -0.1599,  2.5560]])\n",
      "target = tensor([1, 3, 1])\n",
      "cross_entropy_loss_out = tensor([1.6854, 1.1593, 1.6665])\n",
      "\n",
      "softmax_out = tensor([[0.1060, 0.1854, 0.2348, 0.4738],\n",
      "        [0.0644, 0.3318, 0.2901, 0.3137],\n",
      "        [0.1012, 0.1889, 0.0440, 0.6659]])\n",
      "torch.log(softmax_out) = tensor([[-2.2446, -1.6854, -1.4489, -0.7469],\n",
      "        [-2.7427, -1.1031, -1.2377, -1.1593],\n",
      "        [-2.2911, -1.6665, -3.1225, -0.4066]])\n",
      "\n",
      "log_softmax_out = tensor([[-2.2446, -1.6854, -1.4489, -0.7469],\n",
      "        [-2.7427, -1.1031, -1.2377, -1.1593],\n",
      "        [-2.2911, -1.6665, -3.1225, -0.4066]])\n",
      "\n",
      "nl_loss_out = tensor([1.6854, 1.1593, 1.6665])\n",
      "\n"
     ]
    }
   ],
   "source": [
    "cross_entropy_loss = nn.CrossEntropyLoss(reduction=\"none\")\n",
    "input = torch.randn(3, 4)\n",
    "target = torch.empty(3, dtype=torch.long).random_(4)\n",
    "cross_entropy_loss_out = cross_entropy_loss(input, target)\n",
    "print(f\"{input = }\\n{target = }\\n{cross_entropy_loss_out = }\\n\")\n",
    "\n",
    "softmax = nn.Softmax(dim=1)\n",
    "softmax_out = softmax(input)\n",
    "print(f\"{softmax_out = }\\n{torch.log(softmax_out) = }\\n\")\n",
    "\n",
    "# NOTE: log_softmax(input) is equivalent to torch.log(softmax(input))\n",
    "log_softmax = nn.LogSoftmax(dim=1)\n",
    "log_softmax_out = log_softmax(input)\n",
    "print(f\"{log_softmax_out = }\\n\")\n",
    "\n",
    "# NOTE: nl_loss(log_softmax(input), target) is equivalent to cross_entropy_loss(input, target)\n",
    "nl_loss = nn.NLLLoss(reduction=\"none\")\n",
    "nl_loss_out = nl_loss(log_softmax_out, target)\n",
    "print(f\"{nl_loss_out = }\\n\")"
   ]
  },
  {
   "cell_type": "markdown",
   "metadata": {},
   "source": [
    "### Full Implementation"
   ]
  },
  {
   "cell_type": "code",
   "execution_count": 20,
   "metadata": {},
   "outputs": [],
   "source": [
    "learning_rate = 1e-3\n",
    "\n",
    "# Initialize the loss function\n",
    "loss_fn = nn.CrossEntropyLoss()\n",
    "\n",
    "optimizer = torch.optim.SGD(model.parameters(), lr=learning_rate)\n",
    "\n",
    "def train_loop(dataloader, model, loss_fn, optimizer):\n",
    "    size = len(dataloader.dataset)\n",
    "    # Set the model to training mode - important for batch normalization and dropout layers\n",
    "    # Unnecessary in this situation but added for best practices\n",
    "    model.train()\n",
    "    for batch, (X, y) in enumerate(dataloader):\n",
    "        # NOTE: Do ensure all input tensors are on the same device as the model\n",
    "        X = X.to(device)\n",
    "        y = y.to(device)\n",
    "\n",
    "        # Compute prediction and loss\n",
    "        pred = model(X)\n",
    "        loss = loss_fn(pred, y)\n",
    "\n",
    "        # Backpropagation\n",
    "        loss.backward() # NOTE: Could/Should it be loss.sum().backward()?\n",
    "        optimizer.step()\n",
    "        optimizer.zero_grad()\n",
    "\n",
    "        if batch % 100 == 0:\n",
    "            loss, current = loss.item(), (batch + 1) * len(X)\n",
    "            print(f\"loss: {loss:>7f}  [{current:>5d}/{size:>5d}]\")\n",
    "\n",
    "\n",
    "def test_loop(dataloader, model, loss_fn):\n",
    "    # Set the model to evaluation mode - important for batch normalization and dropout layers\n",
    "    # Unnecessary in this situation but added for best practices\n",
    "    model.eval()\n",
    "    size = len(dataloader.dataset)\n",
    "    num_batches = len(dataloader)\n",
    "    test_loss, correct = 0, 0\n",
    "\n",
    "    # Evaluating the model with torch.no_grad() ensures that no gradients are computed during test mode\n",
    "    # also serves to reduce unnecessary gradient computations and memory usage for tensors with requires_grad=True\n",
    "    with torch.no_grad():\n",
    "        for X, y in dataloader:\n",
    "            # NOTE: Do ensure all input tensors are on the same device as the model\n",
    "            X = X.to(device)\n",
    "            y = y.to(device)\n",
    "\n",
    "            pred = model(X)\n",
    "            test_loss += loss_fn(pred, y).item()\n",
    "            # NOTE: Here pred is not mapped to probablities before argmax. It's an optimazation.\n",
    "            correct += (pred.argmax(1) == y).type(torch.float).sum().item()\n",
    "\n",
    "    test_loss /= num_batches\n",
    "    correct /= size\n",
    "    print(f\"Test Error: \\n Accuracy: {(100*correct):>0.1f}%, Avg loss: {test_loss:>8f} \\n\")\n",
    "\n",
    "    "
   ]
  },
  {
   "cell_type": "code",
   "execution_count": 21,
   "metadata": {},
   "outputs": [
    {
     "name": "stdout",
     "output_type": "stream",
     "text": [
      "Epoch 1\n",
      "-------------------------------\n",
      "loss: 2.300204  [   64/60000]\n",
      "loss: 2.292131  [ 6464/60000]\n",
      "loss: 2.275311  [12864/60000]\n",
      "loss: 2.272105  [19264/60000]\n",
      "loss: 2.257688  [25664/60000]\n",
      "loss: 2.226018  [32064/60000]\n",
      "loss: 2.236367  [38464/60000]\n",
      "loss: 2.204283  [44864/60000]\n",
      "loss: 2.214050  [51264/60000]\n",
      "loss: 2.184824  [57664/60000]\n",
      "Test Error: \n",
      " Accuracy: 34.5%, Avg loss: 2.174559 \n",
      "\n",
      "Epoch 2\n",
      "-------------------------------\n",
      "loss: 2.181268  [   64/60000]\n",
      "loss: 2.173115  [ 6464/60000]\n",
      "loss: 2.123961  [12864/60000]\n",
      "loss: 2.146177  [19264/60000]\n",
      "loss: 2.091847  [25664/60000]\n",
      "loss: 2.033934  [32064/60000]\n",
      "loss: 2.072547  [38464/60000]\n",
      "loss: 1.993862  [44864/60000]\n",
      "loss: 2.013166  [51264/60000]\n",
      "loss: 1.951093  [57664/60000]\n",
      "Test Error: \n",
      " Accuracy: 52.8%, Avg loss: 1.937472 \n",
      "\n",
      "Epoch 3\n",
      "-------------------------------\n",
      "loss: 1.961562  [   64/60000]\n",
      "loss: 1.934868  [ 6464/60000]\n",
      "loss: 1.827079  [12864/60000]\n",
      "loss: 1.878328  [19264/60000]\n",
      "loss: 1.762064  [25664/60000]\n",
      "loss: 1.706519  [32064/60000]\n",
      "loss: 1.747881  [38464/60000]\n",
      "loss: 1.636443  [44864/60000]\n",
      "loss: 1.669477  [51264/60000]\n",
      "loss: 1.577735  [57664/60000]\n",
      "Test Error: \n",
      " Accuracy: 60.0%, Avg loss: 1.576762 \n",
      "\n",
      "Epoch 4\n",
      "-------------------------------\n",
      "loss: 1.630421  [   64/60000]\n",
      "loss: 1.595938  [ 6464/60000]\n",
      "loss: 1.448513  [12864/60000]\n",
      "loss: 1.531399  [19264/60000]\n",
      "loss: 1.403059  [25664/60000]\n",
      "loss: 1.391173  [32064/60000]\n",
      "loss: 1.411974  [38464/60000]\n",
      "loss: 1.327340  [44864/60000]\n",
      "loss: 1.365010  [51264/60000]\n",
      "loss: 1.269644  [57664/60000]\n",
      "Test Error: \n",
      " Accuracy: 62.5%, Avg loss: 1.290191 \n",
      "\n",
      "Epoch 5\n",
      "-------------------------------\n",
      "loss: 1.357994  [   64/60000]\n",
      "loss: 1.340860  [ 6464/60000]\n",
      "loss: 1.178027  [12864/60000]\n",
      "loss: 1.291166  [19264/60000]\n",
      "loss: 1.162204  [25664/60000]\n",
      "loss: 1.182700  [32064/60000]\n",
      "loss: 1.200323  [38464/60000]\n",
      "loss: 1.134977  [44864/60000]\n",
      "loss: 1.174671  [51264/60000]\n",
      "loss: 1.091118  [57664/60000]\n",
      "Test Error: \n",
      " Accuracy: 64.2%, Avg loss: 1.113490 \n",
      "\n",
      "Done!\n"
     ]
    }
   ],
   "source": [
    "epochs = 5\n",
    "for t in range(epochs):\n",
    "    print(f\"Epoch {t+1}\\n-------------------------------\")\n",
    "    train_loop(train_dataloader, model, loss_fn, optimizer)\n",
    "    test_loop(test_dataloader, model, loss_fn)\n",
    "print(\"Done!\")"
   ]
  },
  {
   "cell_type": "markdown",
   "metadata": {},
   "source": [
    "## Save and Load Model"
   ]
  },
  {
   "cell_type": "code",
   "execution_count": 22,
   "metadata": {},
   "outputs": [
    {
     "name": "stdout",
     "output_type": "stream",
     "text": [
      "NeuralNetwork(\n",
      "  (flatten): Flatten(start_dim=1, end_dim=-1)\n",
      "  (linear_relu_stack): Sequential(\n",
      "    (0): Linear(in_features=784, out_features=512, bias=True)\n",
      "    (1): ReLU()\n",
      "    (2): Linear(in_features=512, out_features=512, bias=True)\n",
      "    (3): ReLU()\n",
      "    (4): Linear(in_features=512, out_features=10, bias=True)\n",
      "  )\n",
      ")\n",
      "Test Error: \n",
      " Accuracy: 64.2%, Avg loss: 1.113490 \n",
      "\n"
     ]
    }
   ],
   "source": [
    "model_path = \"../model/pytorch-tut\"\n",
    "\n",
    "torch.save(model, model_path)\n",
    "\n",
    "model = torch.load(model_path)\n",
    "print(model)\n",
    "\n",
    "# Validate the loaded model\n",
    "test_loop(test_dataloader, model, loss_fn)"
   ]
  }
 ],
 "metadata": {
  "kernelspec": {
   "display_name": "Python 3",
   "language": "python",
   "name": "python3"
  },
  "language_info": {
   "codemirror_mode": {
    "name": "ipython",
    "version": 3
   },
   "file_extension": ".py",
   "mimetype": "text/x-python",
   "name": "python",
   "nbconvert_exporter": "python",
   "pygments_lexer": "ipython3",
   "version": "3.10.12"
  },
  "orig_nbformat": 4
 },
 "nbformat": 4,
 "nbformat_minor": 2
}
