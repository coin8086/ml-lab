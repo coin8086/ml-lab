{
 "cells": [
  {
   "cell_type": "markdown",
   "metadata": {},
   "source": [
    "# [PyTorch Tutorial](https://pytorch.org/tutorials/beginner/basics/intro.html)"
   ]
  },
  {
   "cell_type": "code",
   "execution_count": 18,
   "metadata": {},
   "outputs": [],
   "source": [
    "import os\n",
    "import torch\n",
    "import torch.nn as nn\n",
    "from torch.utils.data import DataLoader\n",
    "from torchvision import datasets, transforms\n",
    "from torchvision.transforms import ToTensor"
   ]
  },
  {
   "cell_type": "markdown",
   "metadata": {},
   "source": [
    "## Load Data"
   ]
  },
  {
   "cell_type": "code",
   "execution_count": 19,
   "metadata": {},
   "outputs": [],
   "source": [
    "training_data = datasets.FashionMNIST(\n",
    "    root=\"../data\",\n",
    "    train=True,\n",
    "    download=True,\n",
    "    transform=ToTensor()\n",
    ")\n",
    "\n",
    "test_data = datasets.FashionMNIST(\n",
    "    root=\"../data\",\n",
    "    train=False,\n",
    "    download=True,\n",
    "    transform=ToTensor()\n",
    ")\n",
    "\n",
    "train_dataloader = DataLoader(training_data, batch_size=64)\n",
    "test_dataloader = DataLoader(test_data, batch_size=64)"
   ]
  },
  {
   "cell_type": "markdown",
   "metadata": {},
   "source": [
    "## Build Model\n",
    "\n",
    "References:\n",
    "\n",
    "* [How to build a Model](https://pytorch.org/tutorials/beginner/basics/buildmodel_tutorial.html)\n",
    "* [torch.nn.Module](https://pytorch.org/docs/stable/generated/torch.nn.Module.html)"
   ]
  },
  {
   "cell_type": "markdown",
   "metadata": {},
   "source": [
    "### Model Class"
   ]
  },
  {
   "cell_type": "code",
   "execution_count": 20,
   "metadata": {},
   "outputs": [
    {
     "name": "stdout",
     "output_type": "stream",
     "text": [
      "Using cpu device\n",
      "NeuralNetwork(\n",
      "  (flatten): Flatten(start_dim=1, end_dim=-1)\n",
      "  (linear_relu_stack): Sequential(\n",
      "    (0): Linear(in_features=784, out_features=512, bias=True)\n",
      "    (1): ReLU()\n",
      "    (2): Linear(in_features=512, out_features=512, bias=True)\n",
      "    (3): ReLU()\n",
      "    (4): Linear(in_features=512, out_features=10, bias=True)\n",
      "  )\n",
      ")\n"
     ]
    }
   ],
   "source": [
    "device = (\n",
    "    \"cuda\"\n",
    "    if torch.cuda.is_available()\n",
    "    else \"cpu\"\n",
    ")\n",
    "print(f\"Using {device} device\")\n",
    "\n",
    "class NeuralNetwork(nn.Module):\n",
    "    def __init__(self):\n",
    "        super().__init__()\n",
    "        self.flatten = nn.Flatten()\n",
    "        self.linear_relu_stack = nn.Sequential(\n",
    "            nn.Linear(28*28, 512),\n",
    "            nn.ReLU(),\n",
    "            nn.Linear(512, 512),\n",
    "            nn.ReLU(),\n",
    "            nn.Linear(512, 10),\n",
    "        )\n",
    "\n",
    "    # See https://pytorch.org/docs/stable/generated/torch.nn.Module.html#torch.nn.Module.forward\n",
    "    # for when to call it and when not\n",
    "    def forward(self, x):\n",
    "        x = self.flatten(x)\n",
    "        logits = self.linear_relu_stack(x)\n",
    "        return logits\n",
    "\n",
    "model = NeuralNetwork().to(device)\n",
    "print(model)"
   ]
  },
  {
   "cell_type": "code",
   "execution_count": 21,
   "metadata": {},
   "outputs": [
    {
     "name": "stdout",
     "output_type": "stream",
     "text": [
      "logits = tensor([[-0.0660,  0.0944, -0.0932,  0.0141,  0.0612, -0.0055,  0.0494,  0.0192,\n",
      "         -0.0237,  0.0067]], grad_fn=<AddmmBackward0>)\n",
      "logits.sum() = tensor(0.0567, grad_fn=<SumBackward0>)\n",
      "pred_probab = tensor([[0.0929, 0.1091, 0.0905, 0.1007, 0.1056, 0.0987, 0.1043, 0.1012, 0.0970,\n",
      "         0.1000]], grad_fn=<SoftmaxBackward0>)\n",
      "pred_probab.sum() = tensor(1., grad_fn=<SumBackward0>)\n",
      "y_pred =tensor([1])\n"
     ]
    }
   ],
   "source": [
    "X = torch.rand(1, 28, 28, device=device)\n",
    "logits = model(X)\n",
    "pred_probab = nn.Softmax(dim=1)(logits)\n",
    "y_pred = pred_probab.argmax(1)\n",
    "print(f\"{logits = }\\n{logits.sum() = }\\n{pred_probab = }\\n{pred_probab.sum() = }\\n{y_pred =}\")"
   ]
  },
  {
   "cell_type": "markdown",
   "metadata": {},
   "source": [
    "### Model Layers"
   ]
  },
  {
   "cell_type": "code",
   "execution_count": 22,
   "metadata": {},
   "outputs": [
    {
     "name": "stdout",
     "output_type": "stream",
     "text": [
      "torch.Size([3, 28, 28])\n",
      "torch.Size([3, 784])\n",
      "torch.Size([3, 20])\n",
      "Before ReLU: tensor([[-0.0019,  0.1157, -0.7759, -0.1643,  0.2602,  0.2228,  0.1799,  0.2149,\n",
      "          0.2800,  0.1379,  0.2853, -0.0402,  0.1322,  0.6066, -0.1114, -0.3746,\n",
      "          0.1792, -0.0632,  0.1813,  0.0560],\n",
      "        [-0.1496,  0.1236, -0.9442, -0.2122, -0.0850,  0.8782,  0.2493,  0.3142,\n",
      "         -0.3503,  0.3442,  0.0559, -0.2049,  0.5206,  0.3009, -0.1630, -0.1066,\n",
      "          0.3401, -0.2602,  0.0858,  0.2773],\n",
      "        [ 0.2650,  0.1392, -0.7896, -0.1507,  0.3831,  0.2202,  0.1567,  0.2162,\n",
      "         -0.1271,  0.2939,  0.5730,  0.1735,  0.2598,  0.6785, -0.0519, -0.1906,\n",
      "          0.0692, -0.0741,  0.3304, -0.0486]], grad_fn=<AddmmBackward0>)\n",
      "\n",
      "\n",
      "After ReLU: tensor([[0.0000, 0.1157, 0.0000, 0.0000, 0.2602, 0.2228, 0.1799, 0.2149, 0.2800,\n",
      "         0.1379, 0.2853, 0.0000, 0.1322, 0.6066, 0.0000, 0.0000, 0.1792, 0.0000,\n",
      "         0.1813, 0.0560],\n",
      "        [0.0000, 0.1236, 0.0000, 0.0000, 0.0000, 0.8782, 0.2493, 0.3142, 0.0000,\n",
      "         0.3442, 0.0559, 0.0000, 0.5206, 0.3009, 0.0000, 0.0000, 0.3401, 0.0000,\n",
      "         0.0858, 0.2773],\n",
      "        [0.2650, 0.1392, 0.0000, 0.0000, 0.3831, 0.2202, 0.1567, 0.2162, 0.0000,\n",
      "         0.2939, 0.5730, 0.1735, 0.2598, 0.6785, 0.0000, 0.0000, 0.0692, 0.0000,\n",
      "         0.3304, 0.0000]], grad_fn=<ReluBackward0>)\n"
     ]
    }
   ],
   "source": [
    "input_image = torch.rand(3,28,28)\n",
    "print(input_image.size())\n",
    "# print(input_image)\n",
    "\n",
    "flatten = nn.Flatten()\n",
    "flat_image = flatten(input_image)\n",
    "print(flat_image.size())\n",
    "# print(flat_image)\n",
    "\n",
    "layer1 = nn.Linear(in_features=28*28, out_features=20)\n",
    "hidden1 = layer1(flat_image)\n",
    "print(hidden1.size())\n",
    "# print(hidden1)\n",
    "\n",
    "print(f\"Before ReLU: {hidden1}\\n\\n\")\n",
    "hidden1 = nn.ReLU()(hidden1)\n",
    "print(f\"After ReLU: {hidden1}\")"
   ]
  },
  {
   "cell_type": "code",
   "execution_count": 23,
   "metadata": {},
   "outputs": [
    {
     "name": "stdout",
     "output_type": "stream",
     "text": [
      "logits = tensor([[-0.0114, -0.3132, -0.2463,  0.2200, -0.2106, -0.1449, -0.1778, -0.1577,\n",
      "          0.1395,  0.0330],\n",
      "        [-0.0775, -0.3573, -0.1425,  0.2955, -0.1293, -0.1023, -0.0412, -0.2331,\n",
      "          0.1066, -0.0099],\n",
      "        [ 0.0926, -0.2758, -0.1277,  0.1800, -0.1670, -0.1102, -0.0734, -0.1680,\n",
      "          0.0116, -0.0865]], grad_fn=<AddmmBackward0>)\n",
      "pred_probab = tensor([[0.1063, 0.0786, 0.0841, 0.1340, 0.0871, 0.0930, 0.0900, 0.0919, 0.1237,\n",
      "         0.1112],\n",
      "        [0.0977, 0.0739, 0.0916, 0.1419, 0.0928, 0.0953, 0.1013, 0.0836, 0.1175,\n",
      "         0.1045],\n",
      "        [0.1170, 0.0809, 0.0938, 0.1277, 0.0902, 0.0955, 0.0991, 0.0901, 0.1079,\n",
      "         0.0978]], grad_fn=<SoftmaxBackward0>)\n"
     ]
    }
   ],
   "source": [
    "seq_modules = nn.Sequential(\n",
    "    flatten,\n",
    "    layer1,\n",
    "    nn.ReLU(),\n",
    "    nn.Linear(20, 10)\n",
    ")\n",
    "input_image = torch.rand(3,28,28)\n",
    "logits = seq_modules(input_image)\n",
    "\n",
    "softmax = nn.Softmax(dim=1)\n",
    "pred_probab = softmax(logits)\n",
    "print(f\"{logits = }\\n{pred_probab = }\")\n"
   ]
  },
  {
   "cell_type": "markdown",
   "metadata": {},
   "source": [
    "### Model Parameters\n",
    "\n",
    "References\n",
    "\n",
    "* [torch.nn.Module.named_parameters](https://pytorch.org/docs/stable/generated/torch.nn.Module.html#torch.nn.Module.named_parameters)\n",
    "* [torch.nn.parameter.Parameter](https://pytorch.org/docs/stable/generated/torch.nn.parameter.Parameter.html#torch.nn.parameter.Parameter)"
   ]
  },
  {
   "cell_type": "code",
   "execution_count": 24,
   "metadata": {},
   "outputs": [
    {
     "name": "stdout",
     "output_type": "stream",
     "text": [
      "Model structure: NeuralNetwork(\n",
      "  (flatten): Flatten(start_dim=1, end_dim=-1)\n",
      "  (linear_relu_stack): Sequential(\n",
      "    (0): Linear(in_features=784, out_features=512, bias=True)\n",
      "    (1): ReLU()\n",
      "    (2): Linear(in_features=512, out_features=512, bias=True)\n",
      "    (3): ReLU()\n",
      "    (4): Linear(in_features=512, out_features=10, bias=True)\n",
      "  )\n",
      ")\n",
      "\n",
      "\n",
      "Layer: linear_relu_stack.0.weight | Size: torch.Size([512, 784]) | Values : tensor([[ 1.2308e-02, -8.7407e-03, -1.3371e-02,  ...,  1.6829e-02,\n",
      "         -1.1037e-02, -3.5211e-03],\n",
      "        [-1.9919e-02,  2.9085e-02,  8.6011e-03,  ..., -2.4071e-02,\n",
      "          1.2363e-03,  8.1914e-06]], grad_fn=<SliceBackward0>) \n",
      "\n",
      "Layer: linear_relu_stack.0.bias | Size: torch.Size([512]) | Values : tensor([-0.0105, -0.0327], grad_fn=<SliceBackward0>) \n",
      "\n",
      "Layer: linear_relu_stack.2.weight | Size: torch.Size([512, 512]) | Values : tensor([[-0.0385,  0.0431,  0.0142,  ..., -0.0198, -0.0311, -0.0056],\n",
      "        [-0.0160,  0.0120,  0.0422,  ..., -0.0197, -0.0243,  0.0439]],\n",
      "       grad_fn=<SliceBackward0>) \n",
      "\n",
      "Layer: linear_relu_stack.2.bias | Size: torch.Size([512]) | Values : tensor([-0.0261,  0.0346], grad_fn=<SliceBackward0>) \n",
      "\n",
      "Layer: linear_relu_stack.4.weight | Size: torch.Size([10, 512]) | Values : tensor([[ 0.0027, -0.0028, -0.0286,  ..., -0.0067,  0.0039,  0.0203],\n",
      "        [ 0.0439,  0.0281, -0.0223,  ..., -0.0299, -0.0121, -0.0235]],\n",
      "       grad_fn=<SliceBackward0>) \n",
      "\n",
      "Layer: linear_relu_stack.4.bias | Size: torch.Size([10]) | Values : tensor([ 0.0442, -0.0266], grad_fn=<SliceBackward0>) \n",
      "\n"
     ]
    }
   ],
   "source": [
    "print(f\"Model structure: {model}\\n\\n\")\n",
    "\n",
    "for name, param in model.named_parameters():\n",
    "    print(f\"Layer: {name} | Size: {param.size()} | Values : {param[:2]} \\n\")"
   ]
  },
  {
   "cell_type": "markdown",
   "metadata": {},
   "source": [
    "## Train Model\n",
    "\n",
    "References\n",
    "\n",
    "* [How to train a model](https://pytorch.org/tutorials/beginner/basics/optimization_tutorial.html)\n",
    "* [torch.nn.CrossEntropyLoss](https://pytorch.org/docs/stable/generated/torch.nn.CrossEntropyLoss.html)"
   ]
  },
  {
   "cell_type": "code",
   "execution_count": 25,
   "metadata": {},
   "outputs": [],
   "source": [
    "learning_rate = 1e-3\n",
    "\n",
    "# Initialize the loss function\n",
    "loss_fn = nn.CrossEntropyLoss()\n",
    "\n",
    "optimizer = torch.optim.SGD(model.parameters(), lr=learning_rate)\n",
    "\n",
    "def train_loop(dataloader, model, loss_fn, optimizer):\n",
    "    size = len(dataloader.dataset)\n",
    "    # Set the model to training mode - important for batch normalization and dropout layers\n",
    "    # Unnecessary in this situation but added for best practices\n",
    "    model.train()\n",
    "    for batch, (X, y) in enumerate(dataloader):\n",
    "        # Compute prediction and loss\n",
    "        pred = model(X)\n",
    "        loss = loss_fn(pred, y)\n",
    "\n",
    "        # Backpropagation\n",
    "        loss.backward() # NOTE: Could/Should it be loss.sum().backward()?\n",
    "        optimizer.step()\n",
    "        optimizer.zero_grad()\n",
    "\n",
    "        if batch % 100 == 0:\n",
    "            loss, current = loss.item(), (batch + 1) * len(X)\n",
    "            print(f\"loss: {loss:>7f}  [{current:>5d}/{size:>5d}]\")\n",
    "\n",
    "\n",
    "def test_loop(dataloader, model, loss_fn):\n",
    "    # Set the model to evaluation mode - important for batch normalization and dropout layers\n",
    "    # Unnecessary in this situation but added for best practices\n",
    "    model.eval()\n",
    "    size = len(dataloader.dataset)\n",
    "    num_batches = len(dataloader)\n",
    "    test_loss, correct = 0, 0\n",
    "\n",
    "    # Evaluating the model with torch.no_grad() ensures that no gradients are computed during test mode\n",
    "    # also serves to reduce unnecessary gradient computations and memory usage for tensors with requires_grad=True\n",
    "    with torch.no_grad():\n",
    "        for X, y in dataloader:\n",
    "            pred = model(X)\n",
    "            test_loss += loss_fn(pred, y).item()\n",
    "            # NOTE: Here pred is not mapped to probablities before argmax. It's an optimazation.\n",
    "            correct += (pred.argmax(1) == y).type(torch.float).sum().item()\n",
    "\n",
    "    test_loss /= num_batches\n",
    "    correct /= size\n",
    "    print(f\"Test Error: \\n Accuracy: {(100*correct):>0.1f}%, Avg loss: {test_loss:>8f} \\n\")\n",
    "\n",
    "    "
   ]
  },
  {
   "cell_type": "code",
   "execution_count": 27,
   "metadata": {},
   "outputs": [
    {
     "name": "stdout",
     "output_type": "stream",
     "text": [
      "Epoch 1\n",
      "-------------------------------\n",
      "loss: 0.817064  [   64/60000]\n",
      "loss: 0.883475  [ 6464/60000]\n",
      "loss: 0.655078  [12864/60000]\n",
      "loss: 0.854801  [19264/60000]\n",
      "loss: 0.759019  [25664/60000]\n",
      "loss: 0.746451  [32064/60000]\n",
      "loss: 0.825318  [38464/60000]\n",
      "loss: 0.790091  [44864/60000]\n",
      "loss: 0.791187  [51264/60000]\n",
      "loss: 0.759871  [57664/60000]\n",
      "Test Error: \n",
      " Accuracy: 71.9%, Avg loss: 0.771097 \n",
      "\n",
      "Epoch 2\n",
      "-------------------------------\n",
      "loss: 0.773234  [   64/60000]\n",
      "loss: 0.851362  [ 6464/60000]\n",
      "loss: 0.618294  [12864/60000]\n",
      "loss: 0.827294  [19264/60000]\n",
      "loss: 0.734918  [25664/60000]\n",
      "loss: 0.717412  [32064/60000]\n",
      "loss: 0.798285  [38464/60000]\n",
      "loss: 0.769787  [44864/60000]\n",
      "loss: 0.764377  [51264/60000]\n",
      "loss: 0.734872  [57664/60000]\n",
      "Test Error: \n",
      " Accuracy: 73.2%, Avg loss: 0.745893 \n",
      "\n",
      "Epoch 3\n",
      "-------------------------------\n",
      "loss: 0.735958  [   64/60000]\n",
      "loss: 0.822884  [ 6464/60000]\n",
      "loss: 0.587413  [12864/60000]\n",
      "loss: 0.804657  [19264/60000]\n",
      "loss: 0.714459  [25664/60000]\n",
      "loss: 0.693958  [32064/60000]\n",
      "loss: 0.774016  [38464/60000]\n",
      "loss: 0.752758  [44864/60000]\n",
      "loss: 0.741651  [51264/60000]\n",
      "loss: 0.713170  [57664/60000]\n",
      "Test Error: \n",
      " Accuracy: 74.1%, Avg loss: 0.724055 \n",
      "\n",
      "Epoch 4\n",
      "-------------------------------\n",
      "loss: 0.703385  [   64/60000]\n",
      "loss: 0.797370  [ 6464/60000]\n",
      "loss: 0.560959  [12864/60000]\n",
      "loss: 0.785498  [19264/60000]\n",
      "loss: 0.696828  [25664/60000]\n",
      "loss: 0.674490  [32064/60000]\n",
      "loss: 0.751814  [38464/60000]\n",
      "loss: 0.737912  [44864/60000]\n",
      "loss: 0.722093  [51264/60000]\n",
      "loss: 0.693996  [57664/60000]\n",
      "Test Error: \n",
      " Accuracy: 74.9%, Avg loss: 0.704737 \n",
      "\n",
      "Epoch 5\n",
      "-------------------------------\n",
      "loss: 0.674536  [   64/60000]\n",
      "loss: 0.774371  [ 6464/60000]\n",
      "loss: 0.537917  [12864/60000]\n",
      "loss: 0.768848  [19264/60000]\n",
      "loss: 0.681529  [25664/60000]\n",
      "loss: 0.658201  [32064/60000]\n",
      "loss: 0.731300  [38464/60000]\n",
      "loss: 0.724847  [44864/60000]\n",
      "loss: 0.705223  [51264/60000]\n",
      "loss: 0.676784  [57664/60000]\n",
      "Test Error: \n",
      " Accuracy: 75.7%, Avg loss: 0.687445 \n",
      "\n",
      "Done!\n"
     ]
    }
   ],
   "source": [
    "epochs = 5\n",
    "for t in range(epochs):\n",
    "    print(f\"Epoch {t+1}\\n-------------------------------\")\n",
    "    train_loop(train_dataloader, model, loss_fn, optimizer)\n",
    "    test_loop(test_dataloader, model, loss_fn)\n",
    "print(\"Done!\")"
   ]
  },
  {
   "cell_type": "markdown",
   "metadata": {},
   "source": [
    "## Save and Load Model"
   ]
  },
  {
   "cell_type": "code",
   "execution_count": 31,
   "metadata": {},
   "outputs": [
    {
     "name": "stdout",
     "output_type": "stream",
     "text": [
      "NeuralNetwork(\n",
      "  (flatten): Flatten(start_dim=1, end_dim=-1)\n",
      "  (linear_relu_stack): Sequential(\n",
      "    (0): Linear(in_features=784, out_features=512, bias=True)\n",
      "    (1): ReLU()\n",
      "    (2): Linear(in_features=512, out_features=512, bias=True)\n",
      "    (3): ReLU()\n",
      "    (4): Linear(in_features=512, out_features=10, bias=True)\n",
      "  )\n",
      ")\n",
      "Test Error: \n",
      " Accuracy: 75.7%, Avg loss: 0.687445 \n",
      "\n"
     ]
    }
   ],
   "source": [
    "model_path = \"../model/pytorch-tut\"\n",
    "\n",
    "torch.save(model, model_path)\n",
    "\n",
    "model = torch.load(model_path)\n",
    "print(model)\n",
    "\n",
    "# Validate the loaded model\n",
    "test_loop(test_dataloader, model, loss_fn)"
   ]
  }
 ],
 "metadata": {
  "kernelspec": {
   "display_name": "Python 3",
   "language": "python",
   "name": "python3"
  },
  "language_info": {
   "codemirror_mode": {
    "name": "ipython",
    "version": 3
   },
   "file_extension": ".py",
   "mimetype": "text/x-python",
   "name": "python",
   "nbconvert_exporter": "python",
   "pygments_lexer": "ipython3",
   "version": "3.10.12"
  },
  "orig_nbformat": 4
 },
 "nbformat": 4,
 "nbformat_minor": 2
}
