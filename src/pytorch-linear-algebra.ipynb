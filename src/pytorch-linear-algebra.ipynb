{
 "cells": [
  {
   "cell_type": "markdown",
   "metadata": {},
   "source": [
    "# [Linear Algebra in PyTorch](https://d2l.ai/chapter_preliminaries/linear-algebra.html)"
   ]
  },
  {
   "cell_type": "markdown",
   "metadata": {},
   "source": [
    "## Reduction"
   ]
  },
  {
   "cell_type": "code",
   "execution_count": 16,
   "metadata": {},
   "outputs": [
    {
     "name": "stdout",
     "output_type": "stream",
     "text": [
      "x = tensor([[1, 2, 3],\n",
      "        [4, 5, 6]])\n",
      "x.sum() = tensor(21)\n",
      "x.sum(dim=0) = tensor([5, 7, 9])\n",
      "x.sum(dim=1) = tensor([ 6, 15])\n",
      "x.sum(dim=[0, 1]) = tensor(21)\n",
      "sum0 = tensor([[5, 7, 9]])\n",
      "sum1 = tensor([[ 6],\n",
      "        [15]])\n",
      "x / sum0 = tensor([[0.2000, 0.2857, 0.3333],\n",
      "        [0.8000, 0.7143, 0.6667]])\n",
      "x / sum1 = tensor([[0.1667, 0.3333, 0.5000],\n",
      "        [0.2667, 0.3333, 0.4000]])\n"
     ]
    }
   ],
   "source": [
    "import torch\n",
    "\n",
    "x = torch.tensor([[1, 2, 3], [4, 5, 6]])\n",
    "\n",
    "print(f\"{x = }\")\n",
    "\n",
    "print(f\"{x.sum() = }\\n{x.sum(dim=0) = }\\n{x.sum(dim=1) = }\\n{x.sum(dim=[0, 1]) = }\")\n",
    "\n",
    "sum0 = x.sum(dim=0, keepdim=True)\n",
    "sum1 = x.sum(dim=1, keepdim=True)\n",
    "\n",
    "print(f\"{sum0 = }\\n{sum1 = }\")\n",
    "\n",
    "print(f\"{x / sum0 = }\\n{x / sum1 = }\")"
   ]
  },
  {
   "cell_type": "markdown",
   "metadata": {},
   "source": [
    "## Transposition"
   ]
  },
  {
   "cell_type": "code",
   "execution_count": 31,
   "metadata": {},
   "outputs": [
    {
     "name": "stdout",
     "output_type": "stream",
     "text": [
      "A = tensor([[1, 2, 3],\n",
      "        [4, 5, 6]])\n",
      "A.T = tensor([[1, 4],\n",
      "        [2, 5],\n",
      "        [3, 6]])\n",
      "v = tensor([[1],\n",
      "        [2],\n",
      "        [3]])\n",
      "v.T = tensor([[1, 2, 3]])\n"
     ]
    }
   ],
   "source": [
    "A = torch.arange(1, 7).reshape(2, 3)\n",
    "\n",
    "print(f\"{A = }\\n{A.T = }\")\n",
    "\n",
    "v = torch.arange(1, 4).reshape((3, 1))\n",
    "\n",
    "print(f\"{v = }\\n{v.T = }\")\n",
    "\n",
    "# It would be an error to transpose a vector that is a 1-D tensor."
   ]
  },
  {
   "cell_type": "markdown",
   "metadata": {},
   "source": [
    "## Multiplication"
   ]
  },
  {
   "cell_type": "markdown",
   "metadata": {},
   "source": [
    "### Hadamard Product"
   ]
  },
  {
   "cell_type": "code",
   "execution_count": 18,
   "metadata": {},
   "outputs": [
    {
     "name": "stdout",
     "output_type": "stream",
     "text": [
      "A = tensor([[1, 2, 3],\n",
      "        [4, 5, 6]])\n",
      "B = tensor([[10., 10., 10.],\n",
      "        [10., 10., 10.]])\n",
      "A * B = tensor([[10., 20., 30.],\n",
      "        [40., 50., 60.]])\n"
     ]
    }
   ],
   "source": [
    "A = torch.arange(1, 7).reshape(2, 3)\n",
    "B = torch.ones((2, 3)) * 10\n",
    "\n",
    "print(f\"{A = }\\n{B = }\\n{A * B = }\")"
   ]
  },
  {
   "cell_type": "markdown",
   "metadata": {},
   "source": [
    "### Dot Product"
   ]
  },
  {
   "cell_type": "code",
   "execution_count": 22,
   "metadata": {},
   "outputs": [
    {
     "name": "stdout",
     "output_type": "stream",
     "text": [
      "u = tensor([1, 2, 3])\n",
      "v = tensor([10, 10, 10])\n",
      "torch.dot(u, v) = tensor(60)\n",
      "u @ v = tensor(60)\n"
     ]
    }
   ],
   "source": [
    "u = torch.arange(1, 4, dtype=torch.long)\n",
    "v = torch.ones(3, dtype=torch.long) * 10\n",
    "\n",
    "print(f\"{u = }\\n{v = }\\n{torch.dot(u, v) = }\\n{u @ v = }\")"
   ]
  },
  {
   "cell_type": "markdown",
   "metadata": {},
   "source": [
    "### Matrix-Vector Product"
   ]
  },
  {
   "cell_type": "code",
   "execution_count": 27,
   "metadata": {},
   "outputs": [
    {
     "name": "stdout",
     "output_type": "stream",
     "text": [
      "A = tensor([[1, 2, 3],\n",
      "        [4, 5, 6]])\n",
      "v = tensor([10, 10, 10])\n",
      "torch.mv(A, v) = tensor([ 60, 150])\n",
      "A @ v = tensor([ 60, 150])\n",
      "A = tensor([[1, 2, 3],\n",
      "        [4, 5, 6]])\n",
      "v = tensor([10, 10])\n",
      "v @ A = tensor([50, 70, 90])\n"
     ]
    }
   ],
   "source": [
    "A = torch.arange(1, 7).reshape(2, 3)\n",
    "v = torch.ones(3, dtype=torch.long) * 10\n",
    "\n",
    "print(f\"{A = }\\n{v = }\")\n",
    "print(f\"{torch.mv(A, v) = }\\n{A @ v = }\")\n",
    "\n",
    "v = torch.ones(2, dtype=torch.long) * 10\n",
    "\n",
    "print(f\"{A = }\\n{v = }\")\n",
    "print(f\"{v @ A = }\")\n",
    "\n",
    "# It would be an error for torch.mv(v, A)\n",
    "# print(f\"{torch.mv(v, A) = }\")"
   ]
  },
  {
   "cell_type": "markdown",
   "metadata": {},
   "source": [
    "### Matrix-Matrix Product"
   ]
  },
  {
   "cell_type": "code",
   "execution_count": 33,
   "metadata": {},
   "outputs": [
    {
     "name": "stdout",
     "output_type": "stream",
     "text": [
      "A = tensor([[1, 2, 3],\n",
      "        [4, 5, 6]])\n",
      "A.T = tensor([[1, 4],\n",
      "        [2, 5],\n",
      "        [3, 6]])\n",
      "torch.mm(A, A.T) = tensor([[14, 32],\n",
      "        [32, 77]])\n",
      "A @ A.T = tensor([[14, 32],\n",
      "        [32, 77]])\n",
      "A.T @ A = tensor([[17, 22, 27],\n",
      "        [22, 29, 36],\n",
      "        [27, 36, 45]])\n"
     ]
    }
   ],
   "source": [
    "A = torch.arange(1, 7).reshape(2, 3)\n",
    "\n",
    "print(f\"{A = }\\n{A.T = }\\n{torch.mm(A, A.T) = }\\n{A @ A.T = }\\n{A.T @ A = }\")"
   ]
  },
  {
   "cell_type": "markdown",
   "metadata": {},
   "source": [
    "## Norm"
   ]
  },
  {
   "cell_type": "markdown",
   "metadata": {},
   "source": [
    "### Vector Norm"
   ]
  },
  {
   "cell_type": "code",
   "execution_count": 38,
   "metadata": {},
   "outputs": [
    {
     "name": "stdout",
     "output_type": "stream",
     "text": [
      "v = tensor([3., 4.])\n",
      "torch.norm(v) = tensor(5.)\n"
     ]
    }
   ],
   "source": [
    "v = torch.tensor([3., 4.])\n",
    "\n",
    "print(f\"{v = }\\n{torch.norm(v) = }\")\n",
    "\n",
    "# It would be an error in torch.norm(v) if v was a tensor of integer, rather than float. I don't know why."
   ]
  },
  {
   "cell_type": "markdown",
   "metadata": {},
   "source": [
    "### Matrix Norm"
   ]
  },
  {
   "cell_type": "code",
   "execution_count": 48,
   "metadata": {},
   "outputs": [
    {
     "name": "stdout",
     "output_type": "stream",
     "text": [
      "A = tensor([[1., 1., 1.],\n",
      "        [1., 1., 1.],\n",
      "        [1., 1., 1.]], dtype=torch.float64)\n",
      "torch.norm(A) = tensor(3., dtype=torch.float64)\n"
     ]
    }
   ],
   "source": [
    "A = torch.ones((3, 3), dtype=torch.float64)\n",
    "\n",
    "print(f\"{A = }\\n{torch.norm(A) = }\")"
   ]
  },
  {
   "cell_type": "code",
   "execution_count": null,
   "metadata": {},
   "outputs": [],
   "source": []
  }
 ],
 "metadata": {
  "kernelspec": {
   "display_name": "Python 3",
   "language": "python",
   "name": "python3"
  },
  "language_info": {
   "codemirror_mode": {
    "name": "ipython",
    "version": 3
   },
   "file_extension": ".py",
   "mimetype": "text/x-python",
   "name": "python",
   "nbconvert_exporter": "python",
   "pygments_lexer": "ipython3",
   "version": "3.10.12"
  },
  "orig_nbformat": 4
 },
 "nbformat": 4,
 "nbformat_minor": 2
}
