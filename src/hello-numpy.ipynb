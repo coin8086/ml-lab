{
  "cells": [
    {
      "cell_type": "markdown",
      "metadata": {},
      "source": [
        "[NumPy: the absolute basics for beginners](https://numpy.org/doc/stable/user/absolute_beginners.html)"
      ]
    },
    {
      "cell_type": "markdown",
      "metadata": {},
      "source": [
        "[Shape](https://numpy.org/doc/stable/user/absolute_beginners.html#how-do-you-know-the-shape-and-size-of-an-array)"
      ]
    },
    {
      "cell_type": "code",
      "execution_count": 59,
      "metadata": {
        "colab": {
          "base_uri": "https://localhost:8080/"
        },
        "id": "XGmemSBZEmwq",
        "outputId": "54d3af45-8c2a-443e-c096-f2ace6665d9a"
      },
      "outputs": [
        {
          "name": "stdout",
          "output_type": "stream",
          "text": [
            "[1 2 3]\n",
            "(3,)\n",
            "[[1]\n",
            " [2]\n",
            " [3]]\n",
            "(3, 1)\n",
            "[[1 2 3]]\n",
            "(1, 3)\n",
            "[[1]\n",
            " [2]\n",
            " [3]]\n",
            "(3, 1)\n"
          ]
        }
      ],
      "source": [
        "import numpy as np\n",
        "\n",
        "u = np.array([1, 2, 3], dtype=np.int64)\n",
        "print(u)\n",
        "print(u.shape)\n",
        "\n",
        "u2 = u.reshape(3, 1)\n",
        "print(u2)\n",
        "print(u2.shape)\n",
        "\n",
        "u3 = u.reshape(1, 3)\n",
        "print(u3)\n",
        "print(u3.shape)\n",
        "\n",
        "u4 = u.reshape(-1, 1)\n",
        "print(u4)\n",
        "print(u4.shape)"
      ]
    },
    {
      "cell_type": "markdown",
      "metadata": {},
      "source": [
        "[Reshape](https://numpy.org/doc/stable/user/absolute_beginners.html#can-you-reshape-an-array)"
      ]
    },
    {
      "cell_type": "code",
      "execution_count": 60,
      "metadata": {},
      "outputs": [
        {
          "name": "stdout",
          "output_type": "stream",
          "text": [
            "[0 1 2 3 4 5]\n",
            "(6,)\n",
            "[[0 1]\n",
            " [2 3]\n",
            " [4 5]]\n",
            "(3, 2)\n",
            "[[0 1 2 3 4 5]]\n",
            "(1, 6)\n",
            "[[0 2 4 1 3 5]]\n",
            "(1, 6)\n"
          ]
        }
      ],
      "source": [
        "a = np.arange(6)\n",
        "print(a)\n",
        "print(a.shape)\n",
        "\n",
        "b = a.reshape(3, 2)\n",
        "print(b)\n",
        "print(b.shape)\n",
        "\n",
        "c = np.reshape(b, newshape=(1, 6), order='A')\n",
        "print(c)\n",
        "print(c.shape)\n",
        "\n",
        "d = np.reshape(b, newshape=(1, 6), order='F')\n",
        "print(d)\n",
        "print(d.shape)"
      ]
    },
    {
      "cell_type": "markdown",
      "metadata": {},
      "source": [
        "[New Axis](https://numpy.org/doc/stable/user/absolute_beginners.html#how-to-convert-a-1d-array-into-a-2d-array-how-to-add-a-new-axis-to-an-array)"
      ]
    },
    {
      "cell_type": "code",
      "execution_count": 62,
      "metadata": {},
      "outputs": [
        {
          "name": "stdout",
          "output_type": "stream",
          "text": [
            "(1, 6)\n",
            "[[1 2 3 4 5 6]]\n",
            "(6, 1)\n",
            "[[1]\n",
            " [2]\n",
            " [3]\n",
            " [4]\n",
            " [5]\n",
            " [6]]\n"
          ]
        }
      ],
      "source": [
        "a = np.array([1, 2, 3, 4, 5, 6])\n",
        "a.shape\n",
        "\n",
        "row_vector = a[np.newaxis, :]\n",
        "print(row_vector.shape)\n",
        "print(row_vector)\n",
        "\n",
        "col_vector = a[:, np.newaxis]\n",
        "print(col_vector.shape)\n",
        "print(col_vector)"
      ]
    },
    {
      "cell_type": "markdown",
      "metadata": {},
      "source": [
        "[Slice](https://numpy.org/doc/stable/user/absolute_beginners.html#indexing-and-slicing)"
      ]
    },
    {
      "cell_type": "code",
      "execution_count": 73,
      "metadata": {},
      "outputs": [
        {
          "name": "stdout",
          "output_type": "stream",
          "text": [
            "[[ 1  2  3  4]\n",
            " [ 5  6  7  8]\n",
            " [ 9 10 11 12]]\n",
            "[1 2 3 4 5 6]\n",
            "[ 5  6  7  8  9 10 11 12]\n",
            "[ 2  4  6  8 10 12]\n",
            "[ 3  4  5  6  7  8  9 10]\n",
            "[[False False False False]\n",
            " [ True  True  True  True]\n",
            " [ True  True  True  True]]\n",
            "(array([0, 0, 0, 0]), array([0, 1, 2, 3]))\n"
          ]
        }
      ],
      "source": [
        "a = np.array([[1 , 2, 3, 4], [5, 6, 7, 8], [9, 10, 11, 12]])\n",
        "print(a)\n",
        "print(a[a < 7])\n",
        "\n",
        "five_up = (a >= 5)\n",
        "print(a[five_up])\n",
        "\n",
        "divisible_by_2 = a[a%2==0]\n",
        "print(divisible_by_2)\n",
        "\n",
        "c = a[(a > 2) & (a < 11)]\n",
        "print(c)\n",
        "\n",
        "five_up = (a > 5) | (a == 5)\n",
        "print(five_up)\n",
        "\n",
        "b = np.nonzero(a < 5)\n",
        "print(b)"
      ]
    },
    {
      "cell_type": "markdown",
      "metadata": {},
      "source": [
        "[View and Copy](https://numpy.org/doc/stable/user/absolute_beginners.html#how-to-create-an-array-from-existing-data)"
      ]
    },
    {
      "cell_type": "code",
      "execution_count": 77,
      "metadata": {},
      "outputs": [
        {
          "name": "stdout",
          "output_type": "stream",
          "text": [
            "[5 6 7 8]\n",
            "[99  6  7  8]\n",
            "[[ 1  2  3  4]\n",
            " [99  6  7  8]\n",
            " [ 9 10 11 12]]\n"
          ]
        }
      ],
      "source": [
        "a = np.array([[1, 2, 3, 4], [5, 6, 7, 8], [9, 10, 11, 12]])\n",
        "b1 = a[1, :]\n",
        "print(b1)\n",
        "\n",
        "b1[0] = 99\n",
        "print(b1)\n",
        "print(a)"
      ]
    },
    {
      "cell_type": "code",
      "execution_count": null,
      "metadata": {},
      "outputs": [],
      "source": []
    }
  ],
  "metadata": {
    "colab": {
      "authorship_tag": "ABX9TyOmWJ0KBj0CKlvtGDKWk0Ry",
      "include_colab_link": true,
      "provenance": []
    },
    "kernelspec": {
      "display_name": "Python 3 (ipykernel)",
      "language": "python",
      "name": "python3"
    },
    "language_info": {
      "codemirror_mode": {
        "name": "ipython",
        "version": 3
      },
      "file_extension": ".py",
      "mimetype": "text/x-python",
      "name": "python",
      "nbconvert_exporter": "python",
      "pygments_lexer": "ipython3",
      "version": "3.10.6"
    }
  },
  "nbformat": 4,
  "nbformat_minor": 0
}
